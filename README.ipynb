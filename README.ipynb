{
 "cells": [
  {
   "cell_type": "markdown",
   "metadata": {},
   "source": [
    "## Data Pipeline Overview\n",
    "\n",
    "by Paul Witt \n",
    "\n",
    "### Key Features:\n",
    "\n",
    "To me, a successful data pipeline should do the following:\n",
    "\n",
    "1) Automate data extraction and wrangling. The work is done upfront.  Once code is final, little work is required to maintain it, depending on the data sources.  \n",
    "\n",
    "2) Produce reusable code so others can access it. Custom python data pull and data wrangle modules make a user friendly API.  Creating useful parameters makes working with data much easier for analysis.  This is my preferred method for databases as well.\n",
    "\n",
    "3) Produce datasets that are optimized for aggregations. In other words, datasets that can be loaded and used for analysis in other applications. I prefer to work with single flat files or data frame objects if resources permit.  Once data pull and wrangle code is written and automated, the focus is primarily on doing analysis and maintaining a code base. \n",
    "\n",
    "For this exercise, I automated the extraction and wrangling, and produced flat files that were exported for use in Tableau.  In general, this workflow, or ETL,  is used in most successful data pipelines.  \n",
    "\n",
    "I built several custom python modules. These modules could be made available on gitlabs.  #NOTE: because of FRED API rate limits, these modules may not function properly.  The below code is for demonstration purposes only.  All work is original. \n",
    "\n",
    "\n",
    "### Documentation\n",
    "DataPull:\n",
    "class DataPull.pull_data()\n",
    "\n",
    "Pulls data from FRED API endpoints.  Automatically loops through each endpoint, pulls all available data, appends and merges them together as appropriate.  The result is one raw dataset that can be used for more in-depth analysis, including aggregations, data quality checks, and model inputs.  Also useful for stakeholders who just want raw data.\n",
    "\n",
    "returns dataframe object of raw data.    \n",
    "\n",
    "DataWrangle:\n",
    "\n",
    "Cleans, formats and does other custom aggregations to the data pulled from FRED.  Cleans column headings, creates year and month columns.  This module is created separate from DataPull because there will be a continual need to add new functions in the future.  It is also good to keep raw data in its original format to troubleshoot and understand potential data issues.  \n",
    "functions:\n",
    "\n",
    "#### DataWrangle.clean_data(data)\n",
    "accepts dataframe object.  Cleans column headings, creates year and month columns.  \n",
    "\n",
    "\n",
    "#### DataWrangle.DQ_H6Measure(data,frequency,season_adj_short,year)\n",
    "\n",
    "Parameters:\n",
    "data: DataFrame object.\n",
    "\n",
    "frequency: string - frequency of data requested: 'Monthly', 'Yearly', etc.\n",
    "\n",
    "season_adj_short: string- provide seasonal adjustment parameter i.e. \"NSA\"\n",
    "\n",
    "year: calendar year, default is None. Will return all years.\n",
    "\n",
    "# Automation\n",
    "\n",
    "For automation, I use the python schedule module.  It allows for scheduling jobs at time intervals of the developers choosing. https://schedule.readthedocs.io/en/stable/\n",
    "\n",
    "The automation script incorporates different checks to help troubleshoot potential data issues.  Larger pulls can be scheduled at night or early morning.  Runs from terminal on windows, mac or linux\n",
    "\n",
    "![alt text](https://github.com/pbwitt/Federal-Reserve-Econiomic-Data-Pipeline/blob/main/Automation%20Terminal%20.png)\n",
    "\n"
   ]
  },
  {
   "cell_type": "markdown",
   "metadata": {},
   "source": [
    "# Data Wrangling and Analysis\n",
    "\n",
    "\n",
    "![alt text](https://github.com/pbwitt/Federal-Reserve-Econiomic-Data-Pipeline/blob/main/Money_Stock.jpeg)\n",
    "\n",
    "\n",
    "### H.6 Money Stock Measures Data Requirements\n",
    "\n",
    "An Analysis presented to the Federal Reserve Board \n",
    "\n",
    "Tasks to be completed:\n",
    "\n",
    "Using the St. Louis FRED API, pull data on monthly, non-seasonally adjusted M1 and its sub-components from January 2022 through August 2022, inclusive. \n",
    "\n",
    "M1 is one of two money stock measures MPOA publishes on the H.6 statistical release.\n",
    "The sub-components of M1 include currency, demand deposits, and other liquid deposits.\n",
    "\n",
    "Data on monthly, non-seasonally adjusted M1 and its sub-components can be referenced from FRED’s H.6 Money Stock Measure, Release Table 3 (https://fred.stlouisfed.org/release/tables?rid=21&eid=1217611). \n",
    "\n",
    "Calculate M1 for each month in the above range by summing, for a given month, the M1 sub-components. \n",
    "Create an output CSV with the following information:\n",
    "\n",
    "\n",
    "Col 1:  Date of M1 observation in yyyy-mm format\n",
    "\n",
    "Col 2:  Pulled monthly, non-seasonally adjusted M1 value in $billions from FRED\n",
    "\n",
    "Col 3:  Calculated monthly, non-seasonally adjusted M1 value in $billions constructed from M1 sub-components pulled from FRED\n",
    "\n",
    "Col 4:  Difference between column 2 and column 3 values in $billions\n",
    "\n",
    "We are expecting an output CSV containing nine rows (one row of labels and eight rows of M1 data) and four columns.  An example of the expected output for December 2021 would look like: \n",
    "\n",
    "date, pulled_m1, calculated_m1, difference"
   ]
  },
  {
   "cell_type": "markdown",
   "metadata": {},
   "source": [
    "# DataPull\n",
    "\n",
    "Use custom Data Pull API to pull data from the FRED API."
   ]
  },
  {
   "cell_type": "code",
   "execution_count": 1,
   "metadata": {},
   "outputs": [],
   "source": [
    "import DataPull as dp\n",
    "import pandas as pd"
   ]
  },
  {
   "cell_type": "code",
   "execution_count": 2,
   "metadata": {},
   "outputs": [
    {
     "name": "stdout",
     "output_type": "stream",
     "text": [
      "DataPull Class Invoked. This is a draft demonstration. Author Paul Witt.  Original Work.\n"
     ]
    }
   ],
   "source": [
    "fetch=dp.DataPull()"
   ]
  },
  {
   "cell_type": "code",
   "execution_count": 3,
   "metadata": {},
   "outputs": [
    {
     "name": "stdout",
     "output_type": "stream",
     "text": [
      "pulling releases\n",
      "pulling observations\n",
      "finished observations...merging datasets\n"
     ]
    }
   ],
   "source": [
    "# the data_pull function outputs helpful updates during the data pull. This is important for trouble shooting. \n",
    "# currently it outputs which release ids and series ids were not pulled from FRED.  \n",
    "result_set=fetch.data_pull()"
   ]
  },
  {
   "cell_type": "code",
   "execution_count": 4,
   "metadata": {},
   "outputs": [],
   "source": [
    "#write data to disk. \n",
    "#result_set=pd.to_csv('../result_set.csv')"
   ]
  },
  {
   "cell_type": "code",
   "execution_count": 5,
   "metadata": {},
   "outputs": [],
   "source": [
    "#result_set=pd.read_csv('../result_set.csv')"
   ]
  },
  {
   "cell_type": "markdown",
   "metadata": {},
   "source": [
    "# Explore Data"
   ]
  },
  {
   "cell_type": "markdown",
   "metadata": {},
   "source": [
    "Pull in the data wrangle module.  These modules are reuseable and can alway be applied to the data pulls.  "
   ]
  },
  {
   "cell_type": "code",
   "execution_count": 6,
   "metadata": {},
   "outputs": [],
   "source": [
    "## Pull in custom DataWrangle module. \n",
    "import DataWrangle as DW"
   ]
  },
  {
   "cell_type": "markdown",
   "metadata": {},
   "source": [
    "Apply data clean module. Adds Month Year.  Should chage data types as well.  \n",
    "There are records with non-integers in the vlaue column.  Requires more work to clean "
   ]
  },
  {
   "cell_type": "code",
   "execution_count": 7,
   "metadata": {},
   "outputs": [
    {
     "data": {
      "text/plain": [
       "Index(['@realtime_start', '@realtime_end', '@date', '@value', 'series_id',\n",
       "       'id_x', 'realtime_start', 'realtime_end', 'title', 'observation_start',\n",
       "       'observation_end', 'frequency', 'frequency_short', 'units',\n",
       "       'units_short', 'seasonal_adjustment', 'seasonal_adjustment_short',\n",
       "       'last_updated', 'popularity', 'group_popularity', 'notes', 'release_id',\n",
       "       'id_y', 'name'],\n",
       "      dtype='object')"
      ]
     },
     "execution_count": 7,
     "metadata": {},
     "output_type": "execute_result"
    }
   ],
   "source": [
    "#before \n",
    "result_set.columns"
   ]
  },
  {
   "cell_type": "code",
   "execution_count": 8,
   "metadata": {},
   "outputs": [],
   "source": [
    "#After\n",
    "DW.DataWrangle.clean_data(result_set)"
   ]
  },
  {
   "cell_type": "code",
   "execution_count": 9,
   "metadata": {},
   "outputs": [
    {
     "data": {
      "text/plain": [
       "Index(['realtime_start', 'realtime_end', 'date', 'value', 'series_id', 'id_x',\n",
       "       'realtime_start', 'realtime_end', 'title', 'observation_start',\n",
       "       'observation_end', 'frequency', 'frequency_short', 'units',\n",
       "       'units_short', 'seasonal_adjustment', 'seasonal_adjustment_short',\n",
       "       'last_updated', 'popularity', 'group_popularity', 'notes', 'release_id',\n",
       "       'id_y', 'name', 'year', 'month'],\n",
       "      dtype='object')"
      ]
     },
     "execution_count": 9,
     "metadata": {},
     "output_type": "execute_result"
    }
   ],
   "source": [
    "#column headings cleaned up, year and month are added\n",
    "result_set.columns"
   ]
  },
  {
   "cell_type": "markdown",
   "metadata": {},
   "source": [
    "Apply data quality function. Takes in parameters that allows the logic to be applied to series from Fred. \n",
    "Lots more could be done to customize this function.  I call it a data quality function because I assume the comparision is for data quality purposes. "
   ]
  },
  {
   "cell_type": "code",
   "execution_count": 10,
   "metadata": {},
   "outputs": [
    {
     "name": "stdout",
     "output_type": "stream",
     "text": [
      "run DQ measure\n"
     ]
    }
   ],
   "source": [
    "## The function accepts parameters. It is very convenient for others to use.  Very useful for filtering data.  \n",
    "# Currently fuction only filters on NSA but that could be altered.   \n",
    "\n",
    "results_2022=DW.DataWrangle.DQ_H6Measure(result_set,'Monthly','NSA',2022)"
   ]
  },
  {
   "cell_type": "code",
   "execution_count": 11,
   "metadata": {},
   "outputs": [
    {
     "data": {
      "text/html": [
       "<div>\n",
       "<style scoped>\n",
       "    .dataframe tbody tr th:only-of-type {\n",
       "        vertical-align: middle;\n",
       "    }\n",
       "\n",
       "    .dataframe tbody tr th {\n",
       "        vertical-align: top;\n",
       "    }\n",
       "\n",
       "    .dataframe thead th {\n",
       "        text-align: right;\n",
       "    }\n",
       "</style>\n",
       "<table border=\"1\" class=\"dataframe\">\n",
       "  <thead>\n",
       "    <tr style=\"text-align: right;\">\n",
       "      <th></th>\n",
       "      <th>date</th>\n",
       "      <th>Currency Component of M1</th>\n",
       "      <th>Demand Deposits</th>\n",
       "      <th>Other Liquid Deposits: Total</th>\n",
       "      <th>calculated_m1</th>\n",
       "      <th>pulled_m1</th>\n",
       "      <th>difference</th>\n",
       "    </tr>\n",
       "  </thead>\n",
       "  <tbody>\n",
       "    <tr>\n",
       "      <th>0</th>\n",
       "      <td>2022-01-01</td>\n",
       "      <td>2134.1</td>\n",
       "      <td>4758.0</td>\n",
       "      <td>13657.3</td>\n",
       "      <td>20549.4</td>\n",
       "      <td>20549.3</td>\n",
       "      <td>0.1</td>\n",
       "    </tr>\n",
       "    <tr>\n",
       "      <th>1</th>\n",
       "      <td>2022-02-01</td>\n",
       "      <td>2142.3</td>\n",
       "      <td>4691.7</td>\n",
       "      <td>13694.0</td>\n",
       "      <td>20528.0</td>\n",
       "      <td>20528.1</td>\n",
       "      <td>-0.1</td>\n",
       "    </tr>\n",
       "    <tr>\n",
       "      <th>2</th>\n",
       "      <td>2022-03-01</td>\n",
       "      <td>2165.3</td>\n",
       "      <td>4811.9</td>\n",
       "      <td>13823.6</td>\n",
       "      <td>20800.8</td>\n",
       "      <td>20800.8</td>\n",
       "      <td>0.0</td>\n",
       "    </tr>\n",
       "    <tr>\n",
       "      <th>3</th>\n",
       "      <td>2022-04-01</td>\n",
       "      <td>2175.7</td>\n",
       "      <td>4878.8</td>\n",
       "      <td>13765.5</td>\n",
       "      <td>20820.0</td>\n",
       "      <td>20820.0</td>\n",
       "      <td>0.0</td>\n",
       "    </tr>\n",
       "    <tr>\n",
       "      <th>4</th>\n",
       "      <td>2022-05-01</td>\n",
       "      <td>2180.9</td>\n",
       "      <td>4934.5</td>\n",
       "      <td>13429.5</td>\n",
       "      <td>20544.9</td>\n",
       "      <td>20544.8</td>\n",
       "      <td>0.1</td>\n",
       "    </tr>\n",
       "    <tr>\n",
       "      <th>5</th>\n",
       "      <td>2022-06-01</td>\n",
       "      <td>2184.1</td>\n",
       "      <td>4949.4</td>\n",
       "      <td>13413.6</td>\n",
       "      <td>20547.1</td>\n",
       "      <td>20547.1</td>\n",
       "      <td>0.0</td>\n",
       "    </tr>\n",
       "    <tr>\n",
       "      <th>6</th>\n",
       "      <td>2022-07-01</td>\n",
       "      <td>2185.4</td>\n",
       "      <td>4965.8</td>\n",
       "      <td>13337.1</td>\n",
       "      <td>20488.3</td>\n",
       "      <td>20488.3</td>\n",
       "      <td>0.0</td>\n",
       "    </tr>\n",
       "    <tr>\n",
       "      <th>7</th>\n",
       "      <td>2022-08-01</td>\n",
       "      <td>2186.2</td>\n",
       "      <td>5189.7</td>\n",
       "      <td>13024.1</td>\n",
       "      <td>20400.0</td>\n",
       "      <td>20400.0</td>\n",
       "      <td>0.0</td>\n",
       "    </tr>\n",
       "    <tr>\n",
       "      <th>8</th>\n",
       "      <td>2022-09-01</td>\n",
       "      <td>2188.5</td>\n",
       "      <td>5119.5</td>\n",
       "      <td>12941.4</td>\n",
       "      <td>20249.4</td>\n",
       "      <td>20249.4</td>\n",
       "      <td>0.0</td>\n",
       "    </tr>\n",
       "  </tbody>\n",
       "</table>\n",
       "</div>"
      ],
      "text/plain": [
       "        date  Currency Component of M1  Demand Deposits  \\\n",
       "0 2022-01-01                    2134.1           4758.0   \n",
       "1 2022-02-01                    2142.3           4691.7   \n",
       "2 2022-03-01                    2165.3           4811.9   \n",
       "3 2022-04-01                    2175.7           4878.8   \n",
       "4 2022-05-01                    2180.9           4934.5   \n",
       "5 2022-06-01                    2184.1           4949.4   \n",
       "6 2022-07-01                    2185.4           4965.8   \n",
       "7 2022-08-01                    2186.2           5189.7   \n",
       "8 2022-09-01                    2188.5           5119.5   \n",
       "\n",
       "   Other Liquid Deposits: Total  calculated_m1  pulled_m1  difference  \n",
       "0                       13657.3        20549.4    20549.3         0.1  \n",
       "1                       13694.0        20528.0    20528.1        -0.1  \n",
       "2                       13823.6        20800.8    20800.8         0.0  \n",
       "3                       13765.5        20820.0    20820.0         0.0  \n",
       "4                       13429.5        20544.9    20544.8         0.1  \n",
       "5                       13413.6        20547.1    20547.1         0.0  \n",
       "6                       13337.1        20488.3    20488.3         0.0  \n",
       "7                       13024.1        20400.0    20400.0         0.0  \n",
       "8                       12941.4        20249.4    20249.4         0.0  "
      ]
     },
     "execution_count": 11,
     "metadata": {},
     "output_type": "execute_result"
    }
   ],
   "source": [
    "results_2022"
   ]
  },
  {
   "cell_type": "markdown",
   "metadata": {},
   "source": [
    "#### Final Results\n",
    "\n",
    "Table 3 Money Stock Measures were updated on 10-25-2022. The requst was for data through August 2022.  As such, the final output will filter out September 2022. \n"
   ]
  },
  {
   "cell_type": "code",
   "execution_count": 12,
   "metadata": {},
   "outputs": [
    {
     "data": {
      "text/html": [
       "<div>\n",
       "<style scoped>\n",
       "    .dataframe tbody tr th:only-of-type {\n",
       "        vertical-align: middle;\n",
       "    }\n",
       "\n",
       "    .dataframe tbody tr th {\n",
       "        vertical-align: top;\n",
       "    }\n",
       "\n",
       "    .dataframe thead th {\n",
       "        text-align: right;\n",
       "    }\n",
       "</style>\n",
       "<table border=\"1\" class=\"dataframe\">\n",
       "  <thead>\n",
       "    <tr style=\"text-align: right;\">\n",
       "      <th></th>\n",
       "      <th>date</th>\n",
       "      <th>calculated_m1</th>\n",
       "      <th>pulled_m1</th>\n",
       "      <th>difference</th>\n",
       "    </tr>\n",
       "  </thead>\n",
       "  <tbody>\n",
       "    <tr>\n",
       "      <th>0</th>\n",
       "      <td>2022-01-01</td>\n",
       "      <td>20549.4</td>\n",
       "      <td>20549.3</td>\n",
       "      <td>0.1</td>\n",
       "    </tr>\n",
       "    <tr>\n",
       "      <th>1</th>\n",
       "      <td>2022-02-01</td>\n",
       "      <td>20528.0</td>\n",
       "      <td>20528.1</td>\n",
       "      <td>-0.1</td>\n",
       "    </tr>\n",
       "    <tr>\n",
       "      <th>2</th>\n",
       "      <td>2022-03-01</td>\n",
       "      <td>20800.8</td>\n",
       "      <td>20800.8</td>\n",
       "      <td>0.0</td>\n",
       "    </tr>\n",
       "    <tr>\n",
       "      <th>3</th>\n",
       "      <td>2022-04-01</td>\n",
       "      <td>20820.0</td>\n",
       "      <td>20820.0</td>\n",
       "      <td>0.0</td>\n",
       "    </tr>\n",
       "    <tr>\n",
       "      <th>4</th>\n",
       "      <td>2022-05-01</td>\n",
       "      <td>20544.9</td>\n",
       "      <td>20544.8</td>\n",
       "      <td>0.1</td>\n",
       "    </tr>\n",
       "    <tr>\n",
       "      <th>5</th>\n",
       "      <td>2022-06-01</td>\n",
       "      <td>20547.1</td>\n",
       "      <td>20547.1</td>\n",
       "      <td>0.0</td>\n",
       "    </tr>\n",
       "    <tr>\n",
       "      <th>6</th>\n",
       "      <td>2022-07-01</td>\n",
       "      <td>20488.3</td>\n",
       "      <td>20488.3</td>\n",
       "      <td>0.0</td>\n",
       "    </tr>\n",
       "    <tr>\n",
       "      <th>7</th>\n",
       "      <td>2022-08-01</td>\n",
       "      <td>20400.0</td>\n",
       "      <td>20400.0</td>\n",
       "      <td>0.0</td>\n",
       "    </tr>\n",
       "    <tr>\n",
       "      <th>8</th>\n",
       "      <td>2022-09-01</td>\n",
       "      <td>20249.4</td>\n",
       "      <td>20249.4</td>\n",
       "      <td>0.0</td>\n",
       "    </tr>\n",
       "  </tbody>\n",
       "</table>\n",
       "</div>"
      ],
      "text/plain": [
       "        date  calculated_m1  pulled_m1  difference\n",
       "0 2022-01-01        20549.4    20549.3         0.1\n",
       "1 2022-02-01        20528.0    20528.1        -0.1\n",
       "2 2022-03-01        20800.8    20800.8         0.0\n",
       "3 2022-04-01        20820.0    20820.0         0.0\n",
       "4 2022-05-01        20544.9    20544.8         0.1\n",
       "5 2022-06-01        20547.1    20547.1         0.0\n",
       "6 2022-07-01        20488.3    20488.3         0.0\n",
       "7 2022-08-01        20400.0    20400.0         0.0\n",
       "8 2022-09-01        20249.4    20249.4         0.0"
      ]
     },
     "execution_count": 12,
     "metadata": {},
     "output_type": "execute_result"
    }
   ],
   "source": [
    "final_results=results_2022[['date','calculated_m1','pulled_m1','difference']]\n",
    "final_results"
   ]
  },
  {
   "cell_type": "code",
   "execution_count": 13,
   "metadata": {},
   "outputs": [],
   "source": [
    "final_results=final_results[final_results.date.dt.month<9]"
   ]
  },
  {
   "cell_type": "code",
   "execution_count": 14,
   "metadata": {},
   "outputs": [],
   "source": [
    "final_results.to_csv('final_results.csv')"
   ]
  },
  {
   "cell_type": "code",
   "execution_count": 15,
   "metadata": {},
   "outputs": [
    {
     "name": "stdout",
     "output_type": "stream",
     "text": [
      "run DQ measure\n"
     ]
    },
    {
     "data": {
      "text/html": [
       "<div>\n",
       "<style scoped>\n",
       "    .dataframe tbody tr th:only-of-type {\n",
       "        vertical-align: middle;\n",
       "    }\n",
       "\n",
       "    .dataframe tbody tr th {\n",
       "        vertical-align: top;\n",
       "    }\n",
       "\n",
       "    .dataframe thead th {\n",
       "        text-align: right;\n",
       "    }\n",
       "</style>\n",
       "<table border=\"1\" class=\"dataframe\">\n",
       "  <thead>\n",
       "    <tr style=\"text-align: right;\">\n",
       "      <th></th>\n",
       "      <th>date</th>\n",
       "      <th>Currency Component of M1</th>\n",
       "      <th>Demand Deposits</th>\n",
       "      <th>Other Liquid Deposits: Total</th>\n",
       "      <th>calculated_m1</th>\n",
       "      <th>pulled_m1</th>\n",
       "      <th>difference</th>\n",
       "    </tr>\n",
       "  </thead>\n",
       "  <tbody>\n",
       "    <tr>\n",
       "      <th>0</th>\n",
       "      <td>1959-01-01</td>\n",
       "      <td>28.4</td>\n",
       "      <td>113.4</td>\n",
       "      <td>NaN</td>\n",
       "      <td>141.8</td>\n",
       "      <td>142.2</td>\n",
       "      <td>-0.4</td>\n",
       "    </tr>\n",
       "    <tr>\n",
       "      <th>1</th>\n",
       "      <td>1959-02-01</td>\n",
       "      <td>28.2</td>\n",
       "      <td>110.8</td>\n",
       "      <td>NaN</td>\n",
       "      <td>139.0</td>\n",
       "      <td>139.3</td>\n",
       "      <td>-0.3</td>\n",
       "    </tr>\n",
       "    <tr>\n",
       "      <th>2</th>\n",
       "      <td>1959-03-01</td>\n",
       "      <td>28.3</td>\n",
       "      <td>109.8</td>\n",
       "      <td>NaN</td>\n",
       "      <td>138.1</td>\n",
       "      <td>138.4</td>\n",
       "      <td>-0.3</td>\n",
       "    </tr>\n",
       "    <tr>\n",
       "      <th>3</th>\n",
       "      <td>1959-04-01</td>\n",
       "      <td>28.3</td>\n",
       "      <td>111.1</td>\n",
       "      <td>NaN</td>\n",
       "      <td>139.4</td>\n",
       "      <td>139.7</td>\n",
       "      <td>-0.3</td>\n",
       "    </tr>\n",
       "    <tr>\n",
       "      <th>4</th>\n",
       "      <td>1959-05-01</td>\n",
       "      <td>28.5</td>\n",
       "      <td>109.8</td>\n",
       "      <td>NaN</td>\n",
       "      <td>138.3</td>\n",
       "      <td>138.7</td>\n",
       "      <td>-0.4</td>\n",
       "    </tr>\n",
       "    <tr>\n",
       "      <th>...</th>\n",
       "      <td>...</td>\n",
       "      <td>...</td>\n",
       "      <td>...</td>\n",
       "      <td>...</td>\n",
       "      <td>...</td>\n",
       "      <td>...</td>\n",
       "      <td>...</td>\n",
       "    </tr>\n",
       "    <tr>\n",
       "      <th>760</th>\n",
       "      <td>2022-05-01</td>\n",
       "      <td>2180.9</td>\n",
       "      <td>4934.5</td>\n",
       "      <td>13429.5</td>\n",
       "      <td>20544.9</td>\n",
       "      <td>20544.8</td>\n",
       "      <td>0.1</td>\n",
       "    </tr>\n",
       "    <tr>\n",
       "      <th>761</th>\n",
       "      <td>2022-06-01</td>\n",
       "      <td>2184.1</td>\n",
       "      <td>4949.4</td>\n",
       "      <td>13413.6</td>\n",
       "      <td>20547.1</td>\n",
       "      <td>20547.1</td>\n",
       "      <td>0.0</td>\n",
       "    </tr>\n",
       "    <tr>\n",
       "      <th>762</th>\n",
       "      <td>2022-07-01</td>\n",
       "      <td>2185.4</td>\n",
       "      <td>4965.8</td>\n",
       "      <td>13337.1</td>\n",
       "      <td>20488.3</td>\n",
       "      <td>20488.3</td>\n",
       "      <td>0.0</td>\n",
       "    </tr>\n",
       "    <tr>\n",
       "      <th>763</th>\n",
       "      <td>2022-08-01</td>\n",
       "      <td>2186.2</td>\n",
       "      <td>5189.7</td>\n",
       "      <td>13024.1</td>\n",
       "      <td>20400.0</td>\n",
       "      <td>20400.0</td>\n",
       "      <td>0.0</td>\n",
       "    </tr>\n",
       "    <tr>\n",
       "      <th>764</th>\n",
       "      <td>2022-09-01</td>\n",
       "      <td>2188.5</td>\n",
       "      <td>5119.5</td>\n",
       "      <td>12941.4</td>\n",
       "      <td>20249.4</td>\n",
       "      <td>20249.4</td>\n",
       "      <td>0.0</td>\n",
       "    </tr>\n",
       "  </tbody>\n",
       "</table>\n",
       "<p>765 rows × 7 columns</p>\n",
       "</div>"
      ],
      "text/plain": [
       "          date  Currency Component of M1  Demand Deposits  \\\n",
       "0   1959-01-01                      28.4            113.4   \n",
       "1   1959-02-01                      28.2            110.8   \n",
       "2   1959-03-01                      28.3            109.8   \n",
       "3   1959-04-01                      28.3            111.1   \n",
       "4   1959-05-01                      28.5            109.8   \n",
       "..         ...                       ...              ...   \n",
       "760 2022-05-01                    2180.9           4934.5   \n",
       "761 2022-06-01                    2184.1           4949.4   \n",
       "762 2022-07-01                    2185.4           4965.8   \n",
       "763 2022-08-01                    2186.2           5189.7   \n",
       "764 2022-09-01                    2188.5           5119.5   \n",
       "\n",
       "     Other Liquid Deposits: Total  calculated_m1  pulled_m1  difference  \n",
       "0                             NaN          141.8      142.2        -0.4  \n",
       "1                             NaN          139.0      139.3        -0.3  \n",
       "2                             NaN          138.1      138.4        -0.3  \n",
       "3                             NaN          139.4      139.7        -0.3  \n",
       "4                             NaN          138.3      138.7        -0.4  \n",
       "..                            ...            ...        ...         ...  \n",
       "760                       13429.5        20544.9    20544.8         0.1  \n",
       "761                       13413.6        20547.1    20547.1         0.0  \n",
       "762                       13337.1        20488.3    20488.3         0.0  \n",
       "763                       13024.1        20400.0    20400.0         0.0  \n",
       "764                       12941.4        20249.4    20249.4         0.0  \n",
       "\n",
       "[765 rows x 7 columns]"
      ]
     },
     "execution_count": 15,
     "metadata": {},
     "output_type": "execute_result"
    }
   ],
   "source": [
    "##Pull all years.  This is a complete dataset.  \n",
    "#The complete dataset can be sent to Tableau, models or other exporation software. \n",
    "#Producing larger datasets that can be used by other stakeholders is one of the primary jobs of a data engineer. \n",
    "#Removing the year parameter will pull all availible data. \n",
    "DW.DataWrangle.DQ_H6Measure(result_set,'Monthly','NSA')"
   ]
  },
  {
   "cell_type": "code",
   "execution_count": 16,
   "metadata": {},
   "outputs": [
    {
     "name": "stdout",
     "output_type": "stream",
     "text": [
      "run DQ measure\n"
     ]
    }
   ],
   "source": [
    "DW.DataWrangle.DQ_H6Measure(result_set,'Monthly','NSA').to_csv(\"../complete_dataset.csv\")"
   ]
  },
  {
   "cell_type": "markdown",
   "metadata": {},
   "source": [
    "\n",
    "# Data Exploration Tableau\n",
    "\n",
    "A key component of the data science pipeline is the ability to visualize and explore data.  The data engineers role is to make clean datasets available for use by others.  The examples below were created by extracts from the custom python modules above. The automated dashboards contain historical data and can be used to communicate data and results to other audiences.  Stakeholders may have a need to access data in regular intervals. Business Intelligence Dashboards allow that to happen.  \n",
    "\n",
    "\n",
    "https://public.tableau.com/views/FREDDASHBOARDM1DataQualityMeasure/MoneyStockMeasureDash?:language=en-US&:display_count=n&:origin=viz_share_link\n",
    "\n",
    "https://public.tableau.com/app/profile/paul.witt2290/viz/FREDDASHBOARD/M1TimeSeries\n",
    "\n",
    "<div class='tableauPlaceholder' id='viz1666747305354' style='position: relative'><noscript><a href='#'><img alt='Federal Reserve Board Economic Data (FRED) ' src='https:&#47;&#47;public.tableau.com&#47;static&#47;images&#47;FR&#47;FREDDASHBOARDM1DataQualityMeasure&#47;MoneyStockMeasureDash&#47;1_rss.png' style='border: none' /></a></noscript><object class='tableauViz'  style='display:none;'><param name='host_url' value='https%3A%2F%2Fpublic.tableau.com%2F' /> <param name='embed_code_version' value='3' /> <param name='site_root' value='' /><param name='name' value='FREDDASHBOARDM1DataQualityMeasure&#47;MoneyStockMeasureDash' /><param name='tabs' value='no' /><param name='toolbar' value='yes' /><param name='static_image' value='https:&#47;&#47;public.tableau.com&#47;static&#47;images&#47;FR&#47;FREDDASHBOARDM1DataQualityMeasure&#47;MoneyStockMeasureDash&#47;1.png' /> <param name='animate_transition' value='yes' /><param name='display_static_image' value='yes' /><param name='display_spinner' value='yes' /><param name='display_overlay' value='yes' /><param name='display_count' value='yes' /><param name='language' value='en-US' /></object></div> "
   ]
  }
 ],
 "metadata": {
  "kernelspec": {
   "display_name": "Python 3",
   "language": "python",
   "name": "python3"
  },
  "language_info": {
   "codemirror_mode": {
    "name": "ipython",
    "version": 3
   },
   "file_extension": ".py",
   "mimetype": "text/x-python",
   "name": "python",
   "nbconvert_exporter": "python",
   "pygments_lexer": "ipython3",
   "version": "3.8.5"
  }
 },
 "nbformat": 4,
 "nbformat_minor": 4
}
