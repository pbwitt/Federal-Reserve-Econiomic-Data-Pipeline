{
 "cells": [
  {
   "cell_type": "code",
   "execution_count": null,
   "metadata": {},
   "outputs": [],
   "source": [
    "from IPython.display import Image\n",
    "\n",
    "Image(url=\"money-supply.jpeg\")"
   ]
  },
  {
   "cell_type": "markdown",
   "metadata": {},
   "source": [
    "# H.6 Money Stock Measures\n",
    "\n",
    "An Analysis presented to the Federal Reserve Board \n",
    "\n",
    "Tasks to be completed:\n",
    "\n",
    "Using the St. Louis FRED API, pull data on monthly, non-seasonally adjusted M1 and its sub-components from January 2022 through August 2022, inclusive. \n",
    "\n",
    "M1 is one of two money stock measures MPOA publishes on the H.6 statistical release.\n",
    "The sub-components of M1 include currency, demand deposits, and other liquid deposits.\n",
    "\n",
    "Data on monthly, non-seasonally adjusted M1 and its sub-components can be referenced from FRED’s H.6 Money Stock Measure, Release Table 3 (https://fred.stlouisfed.org/release/tables?rid=21&eid=1217611). \n",
    "\n",
    "Calculate M1 for each month in the above range by summing, for a given month, the M1 sub-components. \n",
    "Create an output CSV with the following information:\n",
    "\n",
    "\n",
    "Col 1:  Date of M1 observation in yyyy-mm format\n",
    "\n",
    "Col 2:  Pulled monthly, non-seasonally adjusted M1 value in $billions from FRED\n",
    "\n",
    "Col 3:  Calculated monthly, non-seasonally adjusted M1 value in $billions constructed from M1 sub-components pulled from FRED\n",
    "\n",
    "Col 4:  Difference between column 2 and column 3 values in $billions\n",
    "\n",
    "We are expecting an output CSV containing nine rows (one row of labels and eight rows of M1 data) and four columns.  An example of the expected output for December 2021 would look like: \n",
    "\n",
    "date, pulled_m1, calculated_m1, difference"
   ]
  },
  {
   "cell_type": "code",
   "execution_count": 2,
   "metadata": {},
   "outputs": [],
   "source": [
    "import DataPull as dp\n",
    "import pandas as pd"
   ]
  },
  {
   "cell_type": "code",
   "execution_count": null,
   "metadata": {},
   "outputs": [],
   "source": [
    "pull_data=dp.DataPull()"
   ]
  },
  {
   "cell_type": "code",
   "execution_count": null,
   "metadata": {},
   "outputs": [],
   "source": [
    "fetch_data=pull_data.data_pull()"
   ]
  },
  {
   "cell_type": "code",
   "execution_count": null,
   "metadata": {},
   "outputs": [],
   "source": [
    "fetch_data.to_csv('../result_set1.csv')"
   ]
  },
  {
   "cell_type": "code",
   "execution_count": 3,
   "metadata": {},
   "outputs": [
    {
     "name": "stderr",
     "output_type": "stream",
     "text": [
      "/Users/pwitt/Desktop/anaconda3/lib/python3.8/site-packages/IPython/core/interactiveshell.py:3146: DtypeWarning: Columns (5,21) have mixed types.Specify dtype option on import or set low_memory=False.\n",
      "  has_raised = await self.run_ast_nodes(code_ast.body, cell_name,\n"
     ]
    }
   ],
   "source": [
    "result_set=pd.read_csv('../result_set.csv')"
   ]
  },
  {
   "cell_type": "markdown",
   "metadata": {},
   "source": [
    "# Explore Data"
   ]
  },
  {
   "cell_type": "markdown",
   "metadata": {},
   "source": [
    "Explore Data - check for columns, datatypes, etc.  Add columns for Year and Month.  Makes it easier for aggregations and filtering. Also will need to clean column names and convert datatypes.  The seperate module makes it easier to add things that are needed in the future. It also makes it easier to repurpose for other datasets. "
   ]
  },
  {
   "cell_type": "code",
   "execution_count": 4,
   "metadata": {},
   "outputs": [
    {
     "data": {
      "text/plain": [
       "Index(['Unnamed: 0', 'series_id', '@realtime_start', '@realtime_end', '@date',\n",
       "       '@value', 'id_x', 'realtime_start', 'realtime_end', 'title',\n",
       "       'observation_start', 'observation_end', 'frequency', 'frequency_short',\n",
       "       'units', 'units_short', 'seasonal_adjustment',\n",
       "       'seasonal_adjustment_short', 'last_updated', 'popularity',\n",
       "       'group_popularity', 'notes', 'release_id', 'id_y', 'name'],\n",
       "      dtype='object')"
      ]
     },
     "execution_count": 4,
     "metadata": {},
     "output_type": "execute_result"
    }
   ],
   "source": [
    "result_set.columns"
   ]
  },
  {
   "cell_type": "code",
   "execution_count": null,
   "metadata": {},
   "outputs": [],
   "source": []
  },
  {
   "cell_type": "code",
   "execution_count": 11,
   "metadata": {},
   "outputs": [
    {
     "data": {
      "text/html": [
       "<div>\n",
       "<style scoped>\n",
       "    .dataframe tbody tr th:only-of-type {\n",
       "        vertical-align: middle;\n",
       "    }\n",
       "\n",
       "    .dataframe tbody tr th {\n",
       "        vertical-align: top;\n",
       "    }\n",
       "\n",
       "    .dataframe thead th {\n",
       "        text-align: right;\n",
       "    }\n",
       "</style>\n",
       "<table border=\"1\" class=\"dataframe\">\n",
       "  <thead>\n",
       "    <tr style=\"text-align: right;\">\n",
       "      <th></th>\n",
       "      <th>@value</th>\n",
       "    </tr>\n",
       "  </thead>\n",
       "  <tbody>\n",
       "    <tr>\n",
       "      <th>780</th>\n",
       "      <td>269.778</td>\n",
       "    </tr>\n",
       "    <tr>\n",
       "      <th>781</th>\n",
       "      <td>272.086</td>\n",
       "    </tr>\n",
       "    <tr>\n",
       "      <th>782</th>\n",
       "      <td>275.635</td>\n",
       "    </tr>\n",
       "    <tr>\n",
       "      <th>783</th>\n",
       "      <td>276.522</td>\n",
       "    </tr>\n",
       "    <tr>\n",
       "      <th>784</th>\n",
       "      <td>279.36</td>\n",
       "    </tr>\n",
       "    <tr>\n",
       "      <th>...</th>\n",
       "      <td>...</td>\n",
       "    </tr>\n",
       "    <tr>\n",
       "      <th>2857716</th>\n",
       "      <td>445.7277</td>\n",
       "    </tr>\n",
       "    <tr>\n",
       "      <th>2857717</th>\n",
       "      <td>445.6503</td>\n",
       "    </tr>\n",
       "    <tr>\n",
       "      <th>2857718</th>\n",
       "      <td>444.798</td>\n",
       "    </tr>\n",
       "    <tr>\n",
       "      <th>2857719</th>\n",
       "      <td>443.7033</td>\n",
       "    </tr>\n",
       "    <tr>\n",
       "      <th>2857720</th>\n",
       "      <td>442.8408</td>\n",
       "    </tr>\n",
       "  </tbody>\n",
       "</table>\n",
       "<p>42796 rows × 1 columns</p>\n",
       "</div>"
      ],
      "text/plain": [
       "           @value\n",
       "780       269.778\n",
       "781       272.086\n",
       "782       275.635\n",
       "783       276.522\n",
       "784        279.36\n",
       "...           ...\n",
       "2857716  445.7277\n",
       "2857717  445.6503\n",
       "2857718   444.798\n",
       "2857719  443.7033\n",
       "2857720  442.8408\n",
       "\n",
       "[42796 rows x 1 columns]"
      ]
     },
     "execution_count": 11,
     "metadata": {},
     "output_type": "execute_result"
    }
   ],
   "source": [
    "result_set[['@value']][result_set['@date'].str.contains('2022')]"
   ]
  },
  {
   "cell_type": "code",
   "execution_count": 20,
   "metadata": {},
   "outputs": [],
   "source": [
    "money_market=['DEMDEPNS','MDLNM','CURRNS']\n",
    "\n",
    "filtered_data=result_set[(result_set['name']==\"H.6 Money Stock Measures\")&\\\n",
    "                               (result_set.frequency=='Monthly')&\\\n",
    "                               (result_set.seasonal_adjustment_short=='NSA')&\\\n",
    "                         (result_set['@date'].str.contains('2020'))]"
   ]
  },
  {
   "cell_type": "code",
   "execution_count": 28,
   "metadata": {},
   "outputs": [],
   "source": [
    "import numpy as np"
   ]
  },
  {
   "cell_type": "code",
   "execution_count": 32,
   "metadata": {},
   "outputs": [],
   "source": [
    "final_analysis=filtered_data[filtered_data.series_id.isin(money_market)].groupby(['title','series_id','@date'])\\\n",
    "        .agg({\"@value\":np.sum}).reset_index()\n"
   ]
  },
  {
   "cell_type": "code",
   "execution_count": 34,
   "metadata": {},
   "outputs": [],
   "source": [
    "pivot1=final_analysis.pivot(index='@date',columns='title',values='@value')"
   ]
  },
  {
   "cell_type": "code",
   "execution_count": 35,
   "metadata": {},
   "outputs": [
    {
     "data": {
      "text/html": [
       "<div>\n",
       "<style scoped>\n",
       "    .dataframe tbody tr th:only-of-type {\n",
       "        vertical-align: middle;\n",
       "    }\n",
       "\n",
       "    .dataframe tbody tr th {\n",
       "        vertical-align: top;\n",
       "    }\n",
       "\n",
       "    .dataframe thead th {\n",
       "        text-align: right;\n",
       "    }\n",
       "</style>\n",
       "<table border=\"1\" class=\"dataframe\">\n",
       "  <thead>\n",
       "    <tr style=\"text-align: right;\">\n",
       "      <th>title</th>\n",
       "      <th>Currency Component of M1</th>\n",
       "      <th>Demand Deposits</th>\n",
       "      <th>Other Liquid Deposits: Total</th>\n",
       "    </tr>\n",
       "    <tr>\n",
       "      <th>@date</th>\n",
       "      <th></th>\n",
       "      <th></th>\n",
       "      <th></th>\n",
       "    </tr>\n",
       "  </thead>\n",
       "  <tbody>\n",
       "    <tr>\n",
       "      <th>2020-01-01</th>\n",
       "      <td>1714.0</td>\n",
       "      <td>1586.8</td>\n",
       "      <td>NaN</td>\n",
       "    </tr>\n",
       "    <tr>\n",
       "      <th>2020-02-01</th>\n",
       "      <td>1718.2</td>\n",
       "      <td>1558.3</td>\n",
       "      <td>NaN</td>\n",
       "    </tr>\n",
       "    <tr>\n",
       "      <th>2020-03-01</th>\n",
       "      <td>1747.4</td>\n",
       "      <td>1827.4</td>\n",
       "      <td>NaN</td>\n",
       "    </tr>\n",
       "    <tr>\n",
       "      <th>2020-04-01</th>\n",
       "      <td>1784.3</td>\n",
       "      <td>2048.1</td>\n",
       "      <td>NaN</td>\n",
       "    </tr>\n",
       "    <tr>\n",
       "      <th>2020-05-01</th>\n",
       "      <td>1824.3</td>\n",
       "      <td>2126.5</td>\n",
       "      <td>12219.8</td>\n",
       "    </tr>\n",
       "    <tr>\n",
       "      <th>2020-06-01</th>\n",
       "      <td>1857.1</td>\n",
       "      <td>2218.0</td>\n",
       "      <td>12469.4</td>\n",
       "    </tr>\n",
       "    <tr>\n",
       "      <th>2020-07-01</th>\n",
       "      <td>1884.2</td>\n",
       "      <td>2262.4</td>\n",
       "      <td>12599.8</td>\n",
       "    </tr>\n",
       "    <tr>\n",
       "      <th>2020-08-01</th>\n",
       "      <td>1908.8</td>\n",
       "      <td>2275.8</td>\n",
       "      <td>12684.4</td>\n",
       "    </tr>\n",
       "    <tr>\n",
       "      <th>2020-09-01</th>\n",
       "      <td>1929.2</td>\n",
       "      <td>2389.4</td>\n",
       "      <td>12818.2</td>\n",
       "    </tr>\n",
       "    <tr>\n",
       "      <th>2020-10-01</th>\n",
       "      <td>1944.1</td>\n",
       "      <td>2429.3</td>\n",
       "      <td>12948.1</td>\n",
       "    </tr>\n",
       "    <tr>\n",
       "      <th>2020-11-01</th>\n",
       "      <td>1957.9</td>\n",
       "      <td>2754.7</td>\n",
       "      <td>12929.8</td>\n",
       "    </tr>\n",
       "    <tr>\n",
       "      <th>2020-12-01</th>\n",
       "      <td>1973.8</td>\n",
       "      <td>3357.2</td>\n",
       "      <td>12618.4</td>\n",
       "    </tr>\n",
       "  </tbody>\n",
       "</table>\n",
       "</div>"
      ],
      "text/plain": [
       "title      Currency Component of M1 Demand Deposits  \\\n",
       "@date                                                 \n",
       "2020-01-01                   1714.0          1586.8   \n",
       "2020-02-01                   1718.2          1558.3   \n",
       "2020-03-01                   1747.4          1827.4   \n",
       "2020-04-01                   1784.3          2048.1   \n",
       "2020-05-01                   1824.3          2126.5   \n",
       "2020-06-01                   1857.1          2218.0   \n",
       "2020-07-01                   1884.2          2262.4   \n",
       "2020-08-01                   1908.8          2275.8   \n",
       "2020-09-01                   1929.2          2389.4   \n",
       "2020-10-01                   1944.1          2429.3   \n",
       "2020-11-01                   1957.9          2754.7   \n",
       "2020-12-01                   1973.8          3357.2   \n",
       "\n",
       "title      Other Liquid Deposits: Total  \n",
       "@date                                    \n",
       "2020-01-01                          NaN  \n",
       "2020-02-01                          NaN  \n",
       "2020-03-01                          NaN  \n",
       "2020-04-01                          NaN  \n",
       "2020-05-01                      12219.8  \n",
       "2020-06-01                      12469.4  \n",
       "2020-07-01                      12599.8  \n",
       "2020-08-01                      12684.4  \n",
       "2020-09-01                      12818.2  \n",
       "2020-10-01                      12948.1  \n",
       "2020-11-01                      12929.8  \n",
       "2020-12-01                      12618.4  "
      ]
     },
     "execution_count": 35,
     "metadata": {},
     "output_type": "execute_result"
    }
   ],
   "source": [
    "pivot1"
   ]
  },
  {
   "cell_type": "code",
   "execution_count": 36,
   "metadata": {},
   "outputs": [
    {
     "data": {
      "text/html": [
       "<div>\n",
       "<style scoped>\n",
       "    .dataframe tbody tr th:only-of-type {\n",
       "        vertical-align: middle;\n",
       "    }\n",
       "\n",
       "    .dataframe tbody tr th {\n",
       "        vertical-align: top;\n",
       "    }\n",
       "\n",
       "    .dataframe thead th {\n",
       "        text-align: right;\n",
       "    }\n",
       "</style>\n",
       "<table border=\"1\" class=\"dataframe\">\n",
       "  <thead>\n",
       "    <tr style=\"text-align: right;\">\n",
       "      <th></th>\n",
       "      <th>@date</th>\n",
       "      <th>@value</th>\n",
       "    </tr>\n",
       "  </thead>\n",
       "  <tbody>\n",
       "    <tr>\n",
       "      <th>2699442</th>\n",
       "      <td>2020-05-01</td>\n",
       "      <td>12219.8</td>\n",
       "    </tr>\n",
       "    <tr>\n",
       "      <th>2699443</th>\n",
       "      <td>2020-06-01</td>\n",
       "      <td>12469.4</td>\n",
       "    </tr>\n",
       "    <tr>\n",
       "      <th>2699444</th>\n",
       "      <td>2020-07-01</td>\n",
       "      <td>12599.8</td>\n",
       "    </tr>\n",
       "    <tr>\n",
       "      <th>2699445</th>\n",
       "      <td>2020-08-01</td>\n",
       "      <td>12684.4</td>\n",
       "    </tr>\n",
       "    <tr>\n",
       "      <th>2699446</th>\n",
       "      <td>2020-09-01</td>\n",
       "      <td>12818.2</td>\n",
       "    </tr>\n",
       "    <tr>\n",
       "      <th>2699447</th>\n",
       "      <td>2020-10-01</td>\n",
       "      <td>12948.1</td>\n",
       "    </tr>\n",
       "    <tr>\n",
       "      <th>2699448</th>\n",
       "      <td>2020-11-01</td>\n",
       "      <td>12929.8</td>\n",
       "    </tr>\n",
       "    <tr>\n",
       "      <th>2699449</th>\n",
       "      <td>2020-12-01</td>\n",
       "      <td>12618.4</td>\n",
       "    </tr>\n",
       "  </tbody>\n",
       "</table>\n",
       "</div>"
      ],
      "text/plain": [
       "              @date   @value\n",
       "2699442  2020-05-01  12219.8\n",
       "2699443  2020-06-01  12469.4\n",
       "2699444  2020-07-01  12599.8\n",
       "2699445  2020-08-01  12684.4\n",
       "2699446  2020-09-01  12818.2\n",
       "2699447  2020-10-01  12948.1\n",
       "2699448  2020-11-01  12929.8\n",
       "2699449  2020-12-01  12618.4"
      ]
     },
     "execution_count": 36,
     "metadata": {},
     "output_type": "execute_result"
    }
   ],
   "source": [
    "filtered_data[['@date' ,'@value']][(filtered_data.series_id.isin(money_market))&(filtered_data.series_id=='MDLNM')]"
   ]
  },
  {
   "cell_type": "code",
   "execution_count": null,
   "metadata": {},
   "outputs": [],
   "source": [
    "import importlib\n",
    "import DataWrangle as DW"
   ]
  },
  {
   "cell_type": "code",
   "execution_count": null,
   "metadata": {},
   "outputs": [],
   "source": [
    "importlib.reload(DW)"
   ]
  },
  {
   "cell_type": "markdown",
   "metadata": {},
   "source": [
    "Apply data clean module. Adds Month Year.  Should chage data types as well.  \n",
    "There are records with non-integers in the vlaue column.  Requires more work to clean "
   ]
  },
  {
   "cell_type": "code",
   "execution_count": null,
   "metadata": {},
   "outputs": [],
   "source": []
  },
  {
   "cell_type": "code",
   "execution_count": null,
   "metadata": {},
   "outputs": [],
   "source": [
    "DW.DataWrangle.clean_data(result_set)"
   ]
  },
  {
   "cell_type": "code",
   "execution_count": null,
   "metadata": {},
   "outputs": [],
   "source": [
    "result_set.columns"
   ]
  },
  {
   "cell_type": "code",
   "execution_count": null,
   "metadata": {},
   "outputs": [],
   "source": [
    "##apply data quality function. Takes in parameters that allows the logic to be applied to series from Fred. \n",
    "## Lots more could be done to customize this function."
   ]
  },
  {
   "cell_type": "code",
   "execution_count": null,
   "metadata": {},
   "outputs": [],
   "source": [
    "pd.set_option('display.float_format', lambda x: '%.3f' % x)"
   ]
  },
  {
   "cell_type": "code",
   "execution_count": null,
   "metadata": {},
   "outputs": [],
   "source": [
    "importlib.reload(DW)"
   ]
  },
  {
   "cell_type": "code",
   "execution_count": null,
   "metadata": {},
   "outputs": [],
   "source": [
    "x=DW.DataWrangle.DQ_H6Measure(result_set,'Monthly','NSA',2022)"
   ]
  },
  {
   "cell_type": "code",
   "execution_count": null,
   "metadata": {},
   "outputs": [],
   "source": [
    "x.calculated_m1-x.pulled_m1.round(1)\n"
   ]
  },
  {
   "cell_type": "code",
   "execution_count": null,
   "metadata": {},
   "outputs": [],
   "source": [
    "#run for all years in API.  Export to file for interactive Tableau Dashboard."
   ]
  },
  {
   "cell_type": "code",
   "execution_count": null,
   "metadata": {},
   "outputs": [],
   "source": [
    "DW.DataWrangle.DQ_H6Measure(result_set,'Monthly','NSA',2022)"
   ]
  },
  {
   "cell_type": "code",
   "execution_count": null,
   "metadata": {},
   "outputs": [],
   "source": [
    "DW.DataWrangle.DQ_H6Measure(result_set,'Monthly','NSA').to_csv(\"../complete_dataset.csv\")"
   ]
  },
  {
   "cell_type": "code",
   "execution_count": null,
   "metadata": {},
   "outputs": [],
   "source": [
    "%%html\n",
    "<div class='tableauPlaceholder' id='viz1666587658946' style='position: relative'><noscript><a href='#'><img alt='M1 Time Series ' src='https:&#47;&#47;public.tableau.com&#47;static&#47;images&#47;SZ&#47;SZTHTXY7D&#47;1_rss.png' style='border: none' /></a></noscript><object class='tableauViz'  style='display:none;'><param name='host_url' value='https%3A%2F%2Fpublic.tableau.com%2F' /> <param name='embed_code_version' value='3' /> <param name='path' value='shared&#47;SZTHTXY7D' /> <param name='toolbar' value='yes' /><param name='static_image' value='https:&#47;&#47;public.tableau.com&#47;static&#47;images&#47;SZ&#47;SZTHTXY7D&#47;1.png' /> <param name='animate_transition' value='yes' /><param name='display_static_image' value='yes' /><param name='display_spinner' value='yes' /><param name='display_overlay' value='yes' /><param name='display_count' value='yes' /><param name='language' value='en-US' /><param name='filter' value='publish=yes' /></object></div>                <script type='text/javascript'>                    var divElement = document.getElementById('viz1666587658946');                    var vizElement = divElement.getElementsByTagName('object')[0];                    if ( divElement.offsetWidth > 800 ) { vizElement.style.width='1000px';vizElement.style.height='827px';} else if ( divElement.offsetWidth > 500 ) { vizElement.style.width='1000px';vizElement.style.height='827px';} else { vizElement.style.width='100%';vizElement.style.height='877px';}                     var scriptElement = document.createElement('script');                    scriptElement.src = 'https://public.tableau.com/javascripts/api/viz_v1.js';                    vizElement.parentNode.insertBefore(scriptElement, vizElement);                </script>"
   ]
  },
  {
   "cell_type": "code",
   "execution_count": null,
   "metadata": {},
   "outputs": [],
   "source": []
  }
 ],
 "metadata": {
  "kernelspec": {
   "display_name": "Python 3",
   "language": "python",
   "name": "python3"
  },
  "language_info": {
   "codemirror_mode": {
    "name": "ipython",
    "version": 3
   },
   "file_extension": ".py",
   "mimetype": "text/x-python",
   "name": "python",
   "nbconvert_exporter": "python",
   "pygments_lexer": "ipython3",
   "version": "3.8.5"
  }
 },
 "nbformat": 4,
 "nbformat_minor": 4
}
