{
 "cells": [
  {
   "cell_type": "code",
   "execution_count": null,
   "metadata": {},
   "outputs": [],
   "source": [
    "from IPython.display import Image  \n",
    "# get the image\n",
    "Image(url=\"DataPipeline.jpeg\",)"
   ]
  },
  {
   "cell_type": "code",
   "execution_count": null,
   "metadata": {},
   "outputs": [],
   "source": [
    "from IPython.display import Image\n",
    "# get the image\n",
    "Image(url=\"Measures-of-Money-Supply.jpeg\",)"
   ]
  },
  {
   "cell_type": "markdown",
   "metadata": {},
   "source": [
    "## Data Pipeline Overview\n",
    "\n",
    "### Key Feautres:\n",
    "\n",
    "To me, a successful datapipeline should do the following:\n",
    "\n",
    "1) Automate data extraction and wrangling. The work is done upfront.  Once code is final, little work is required to maintain it.    \n",
    "\n",
    "2) Produce reusauble code so others can use. Custom python data pull and data wrangle modules make a user friendly API.\n",
    "\n",
    "3) Produce datasets that are optimized for aggregations. In otherwords, datasets that can be loaded and used for analysis in other applications. I prefer to work with single flat files or dataframe objects if resourses permit.  Once DataPull functions are written and automated, the focus is primarily on doing analysis. \n",
    "\n",
    "For this exercise, I built several costum python modules. These libraries could be made availible on gitlabs.   \n",
    "\n",
    "### Documentation\n",
    "DataPull:\n",
    "\n",
    "pull_data(): \n",
    "\n",
    "Pulls data from 3 API endpoints.  Automatically loops through each endpoint, pulls all avaible data, appends and merges them together.  The result is one raw dataset that can be used for more in-depth analysis, including aggregations and dataqualty checks.  \n",
    "\n",
    "DataWrangle:\n",
    "\n",
    "Cleans, formats and does other custom aggregations to the data pulled from FRED.  Cleans column headings, creates year and month columns.  This module is created seperate from DataPull because there will be a continual need to add new functions in the fututure.  It is also good to keep raw data in its original format to troubleshoot potential issues.  \n",
    "fuctions:\n",
    "\n",
    "#### clean_data(data)\n",
    "accepts dataframe object.\n",
    "\n",
    "\n",
    "#### DQ_H6Measure(result_set,'Monthly','NSA',2022)\n",
    "\n",
    "Parameters: \n",
    "result_set: datframe object. \n",
    "\n",
    "\n",
    "frequency: string - frequency of data requested: 'Monthly', 'Yearly', etc. \n",
    "\n",
    "\n",
    "season_adj_short: string- provide seasonal adjustment paramter i.e. \"NSA\"\n",
    "\n",
    "\n",
    "# Automation\n",
    "\n",
    "For automation, I use \n",
    "\n"
   ]
  },
  {
   "cell_type": "code",
   "execution_count": 1,
   "metadata": {},
   "outputs": [],
   "source": [
    "import DataPull as dp\n",
    "import pandas as pd"
   ]
  },
  {
   "cell_type": "code",
   "execution_count": null,
   "metadata": {},
   "outputs": [],
   "source": [
    "pull_data=dp.DataPull()"
   ]
  },
  {
   "cell_type": "code",
   "execution_count": null,
   "metadata": {},
   "outputs": [],
   "source": [
    "fetch_data=pull_data.data_pull()"
   ]
  },
  {
   "cell_type": "code",
   "execution_count": null,
   "metadata": {},
   "outputs": [],
   "source": [
    "fetch_data.to_csv('result_set.csv')"
   ]
  },
  {
   "cell_type": "code",
   "execution_count": 2,
   "metadata": {},
   "outputs": [
    {
     "name": "stderr",
     "output_type": "stream",
     "text": [
      "/Users/pwitt/Desktop/anaconda3/lib/python3.8/site-packages/IPython/core/interactiveshell.py:3146: DtypeWarning: Columns (5,21) have mixed types.Specify dtype option on import or set low_memory=False.\n",
      "  has_raised = await self.run_ast_nodes(code_ast.body, cell_name,\n"
     ]
    }
   ],
   "source": [
    "result_set=pd.read_csv('../result_set.csv')"
   ]
  },
  {
   "cell_type": "markdown",
   "metadata": {},
   "source": [
    "# Explore Data"
   ]
  },
  {
   "cell_type": "markdown",
   "metadata": {},
   "source": [
    "Explore Data - check for columns, datatypes, etc.  Add columns for Year and Month.  Makes it easier for aggregations and filtering. Also will need to clean column names and convert datatypes.  The seperate module makes it easier to add things that are needed in the future. It also makes it easier to repurpose for other datasets. "
   ]
  },
  {
   "cell_type": "code",
   "execution_count": 3,
   "metadata": {},
   "outputs": [
    {
     "data": {
      "text/plain": [
       "Index(['Unnamed: 0', 'series_id', '@realtime_start', '@realtime_end', '@date',\n",
       "       '@value', 'id_x', 'realtime_start', 'realtime_end', 'title',\n",
       "       'observation_start', 'observation_end', 'frequency', 'frequency_short',\n",
       "       'units', 'units_short', 'seasonal_adjustment',\n",
       "       'seasonal_adjustment_short', 'last_updated', 'popularity',\n",
       "       'group_popularity', 'notes', 'release_id', 'id_y', 'name'],\n",
       "      dtype='object')"
      ]
     },
     "execution_count": 3,
     "metadata": {},
     "output_type": "execute_result"
    }
   ],
   "source": [
    "result_set.columns"
   ]
  },
  {
   "cell_type": "code",
   "execution_count": 4,
   "metadata": {},
   "outputs": [
    {
     "data": {
      "text/plain": [
       "Unnamed: 0                    int64\n",
       "series_id                    object\n",
       "@realtime_start              object\n",
       "@realtime_end                object\n",
       "@date                        object\n",
       "@value                       object\n",
       "id_x                         object\n",
       "realtime_start               object\n",
       "realtime_end                 object\n",
       "title                        object\n",
       "observation_start            object\n",
       "observation_end              object\n",
       "frequency                    object\n",
       "frequency_short              object\n",
       "units                        object\n",
       "units_short                  object\n",
       "seasonal_adjustment          object\n",
       "seasonal_adjustment_short    object\n",
       "last_updated                 object\n",
       "popularity                    int64\n",
       "group_popularity              int64\n",
       "notes                        object\n",
       "release_id                    int64\n",
       "id_y                          int64\n",
       "name                         object\n",
       "dtype: object"
      ]
     },
     "execution_count": 4,
     "metadata": {},
     "output_type": "execute_result"
    }
   ],
   "source": [
    "result_set.dtypes"
   ]
  },
  {
   "cell_type": "code",
   "execution_count": 5,
   "metadata": {},
   "outputs": [],
   "source": [
    "import importlib\n",
    "import DataWrangle as DW"
   ]
  },
  {
   "cell_type": "code",
   "execution_count": 6,
   "metadata": {},
   "outputs": [],
   "source": [
    "#importlib.reload(DataWrangle)"
   ]
  },
  {
   "cell_type": "markdown",
   "metadata": {},
   "source": [
    "Apply data clean module. Adds Month Year.  Should chage data types as well.  \n",
    "There are records with non-integers in the vlaue column.  Requires more work to clean "
   ]
  },
  {
   "cell_type": "code",
   "execution_count": 7,
   "metadata": {},
   "outputs": [],
   "source": [
    "DW.DataWrangle.clean_data('self',result_set)"
   ]
  },
  {
   "cell_type": "code",
   "execution_count": 8,
   "metadata": {},
   "outputs": [
    {
     "data": {
      "text/plain": [
       "Index(['Unnamed: 0', 'series_id', 'realtime_start', 'realtime_end', 'date',\n",
       "       'value', 'id_x', 'realtime_start', 'realtime_end', 'title',\n",
       "       'observation_start', 'observation_end', 'frequency', 'frequency_short',\n",
       "       'units', 'units_short', 'seasonal_adjustment',\n",
       "       'seasonal_adjustment_short', 'last_updated', 'popularity',\n",
       "       'group_popularity', 'notes', 'release_id', 'id_y', 'name', 'year',\n",
       "       'month'],\n",
       "      dtype='object')"
      ]
     },
     "execution_count": 8,
     "metadata": {},
     "output_type": "execute_result"
    }
   ],
   "source": [
    "result_set.columns"
   ]
  },
  {
   "cell_type": "code",
   "execution_count": 9,
   "metadata": {},
   "outputs": [],
   "source": [
    "##apply data quality function. Takes in parameters that allows the logic to be applied to series from Fred. \n",
    "## Lots more could be done to customize this function."
   ]
  },
  {
   "cell_type": "code",
   "execution_count": 33,
   "metadata": {},
   "outputs": [],
   "source": [
    "pd.set_option('display.float_format', lambda x: '%.3f' % x)"
   ]
  },
  {
   "cell_type": "code",
   "execution_count": 39,
   "metadata": {},
   "outputs": [
    {
     "data": {
      "text/plain": [
       "<module 'DataWrangle' from '/Users/pwitt/Desktop/Federal-Reserve-Econiomic-Data-Pipeline/DataWrangle.py'>"
      ]
     },
     "execution_count": 39,
     "metadata": {},
     "output_type": "execute_result"
    }
   ],
   "source": [
    "importlib.reload(DW)"
   ]
  },
  {
   "cell_type": "code",
   "execution_count": 40,
   "metadata": {},
   "outputs": [],
   "source": [
    "#'DEMDEPNS','MDLNM','CURRNS']"
   ]
  },
  {
   "cell_type": "code",
   "execution_count": 52,
   "metadata": {},
   "outputs": [
    {
     "data": {
      "text/plain": [
       "2358369    13325.9\n",
       "Name: value, dtype: object"
      ]
     },
     "execution_count": 52,
     "metadata": {},
     "output_type": "execute_result"
    }
   ],
   "source": [
    "result_set[(result_set.series_id=='MDLNM')&(result_set.date=='2022-07-01')]['value']"
   ]
  },
  {
   "cell_type": "code",
   "execution_count": null,
   "metadata": {},
   "outputs": [],
   "source": [
    "result_set[(result_set.series_id=='MDLNM')&(result_set.date=='2022-07-01')]['value']"
   ]
  },
  {
   "cell_type": "code",
   "execution_count": 57,
   "metadata": {},
   "outputs": [
    {
     "data": {
      "text/html": [
       "<div>\n",
       "<style scoped>\n",
       "    .dataframe tbody tr th:only-of-type {\n",
       "        vertical-align: middle;\n",
       "    }\n",
       "\n",
       "    .dataframe tbody tr th {\n",
       "        vertical-align: top;\n",
       "    }\n",
       "\n",
       "    .dataframe thead th {\n",
       "        text-align: right;\n",
       "    }\n",
       "</style>\n",
       "<table border=\"1\" class=\"dataframe\">\n",
       "  <thead>\n",
       "    <tr style=\"text-align: right;\">\n",
       "      <th></th>\n",
       "      <th>Unnamed: 0</th>\n",
       "      <th>series_id</th>\n",
       "      <th>realtime_start</th>\n",
       "      <th>realtime_end</th>\n",
       "      <th>date</th>\n",
       "      <th>value</th>\n",
       "      <th>id_x</th>\n",
       "      <th>realtime_start</th>\n",
       "      <th>realtime_end</th>\n",
       "      <th>title</th>\n",
       "      <th>...</th>\n",
       "      <th>seasonal_adjustment_short</th>\n",
       "      <th>last_updated</th>\n",
       "      <th>popularity</th>\n",
       "      <th>group_popularity</th>\n",
       "      <th>notes</th>\n",
       "      <th>release_id</th>\n",
       "      <th>id_y</th>\n",
       "      <th>name</th>\n",
       "      <th>year</th>\n",
       "      <th>month</th>\n",
       "    </tr>\n",
       "  </thead>\n",
       "  <tbody>\n",
       "    <tr>\n",
       "      <th>2292141</th>\n",
       "      <td>2292141</td>\n",
       "      <td>CURRNS</td>\n",
       "      <td>2022-10-23</td>\n",
       "      <td>2022-10-23</td>\n",
       "      <td>2022-07-01</td>\n",
       "      <td>2184.9</td>\n",
       "      <td>CURRNS</td>\n",
       "      <td>2022-10-23</td>\n",
       "      <td>2022-10-23</td>\n",
       "      <td>Currency Component of M1</td>\n",
       "      <td>...</td>\n",
       "      <td>NSA</td>\n",
       "      <td>2022-09-27 12:04:08-05</td>\n",
       "      <td>32</td>\n",
       "      <td>57</td>\n",
       "      <td>The currency component of M1, sometimes called...</td>\n",
       "      <td>21</td>\n",
       "      <td>21</td>\n",
       "      <td>H.6 Money Stock Measures</td>\n",
       "      <td>2022</td>\n",
       "      <td>7</td>\n",
       "    </tr>\n",
       "  </tbody>\n",
       "</table>\n",
       "<p>1 rows × 27 columns</p>\n",
       "</div>"
      ],
      "text/plain": [
       "         Unnamed: 0 series_id realtime_start realtime_end       date   value  \\\n",
       "2292141     2292141    CURRNS     2022-10-23   2022-10-23 2022-07-01  2184.9   \n",
       "\n",
       "           id_x realtime_start realtime_end                     title  ...  \\\n",
       "2292141  CURRNS     2022-10-23   2022-10-23  Currency Component of M1  ...   \n",
       "\n",
       "        seasonal_adjustment_short            last_updated popularity  \\\n",
       "2292141                       NSA  2022-09-27 12:04:08-05         32   \n",
       "\n",
       "        group_popularity                                              notes  \\\n",
       "2292141               57  The currency component of M1, sometimes called...   \n",
       "\n",
       "        release_id id_y                      name  year  month  \n",
       "2292141         21   21  H.6 Money Stock Measures  2022      7  \n",
       "\n",
       "[1 rows x 27 columns]"
      ]
     },
     "execution_count": 57,
     "metadata": {},
     "output_type": "execute_result"
    }
   ],
   "source": [
    "result_set[(result_set.series_id=='CURRNS')&(result_set.date=='2022-07-01')]"
   ]
  },
  {
   "cell_type": "code",
   "execution_count": 56,
   "metadata": {},
   "outputs": [
    {
     "data": {
      "text/html": [
       "<div>\n",
       "<style scoped>\n",
       "    .dataframe tbody tr th:only-of-type {\n",
       "        vertical-align: middle;\n",
       "    }\n",
       "\n",
       "    .dataframe tbody tr th {\n",
       "        vertical-align: top;\n",
       "    }\n",
       "\n",
       "    .dataframe thead th {\n",
       "        text-align: right;\n",
       "    }\n",
       "</style>\n",
       "<table border=\"1\" class=\"dataframe\">\n",
       "  <thead>\n",
       "    <tr style=\"text-align: right;\">\n",
       "      <th></th>\n",
       "      <th>date</th>\n",
       "      <th>Currency Component of M1</th>\n",
       "      <th>Demand Deposits</th>\n",
       "      <th>Other Liquid Deposits: Total</th>\n",
       "      <th>sum_from_component</th>\n",
       "      <th>groupTotal</th>\n",
       "      <th>solution</th>\n",
       "    </tr>\n",
       "  </thead>\n",
       "  <tbody>\n",
       "    <tr>\n",
       "      <th>0</th>\n",
       "      <td>2022-01-01</td>\n",
       "      <td>2134.100</td>\n",
       "      <td>4757.900</td>\n",
       "      <td>13657.300</td>\n",
       "      <td>20549.300</td>\n",
       "      <td>20549.400</td>\n",
       "      <td>-0.100</td>\n",
       "    </tr>\n",
       "    <tr>\n",
       "      <th>1</th>\n",
       "      <td>2022-02-01</td>\n",
       "      <td>2142.400</td>\n",
       "      <td>4691.700</td>\n",
       "      <td>13694.100</td>\n",
       "      <td>20528.200</td>\n",
       "      <td>20528.100</td>\n",
       "      <td>0.100</td>\n",
       "    </tr>\n",
       "    <tr>\n",
       "      <th>2</th>\n",
       "      <td>2022-03-01</td>\n",
       "      <td>2165.300</td>\n",
       "      <td>4811.800</td>\n",
       "      <td>13823.800</td>\n",
       "      <td>20800.900</td>\n",
       "      <td>20800.900</td>\n",
       "      <td>0.000</td>\n",
       "    </tr>\n",
       "    <tr>\n",
       "      <th>3</th>\n",
       "      <td>2022-04-01</td>\n",
       "      <td>2175.600</td>\n",
       "      <td>4878.300</td>\n",
       "      <td>13763.900</td>\n",
       "      <td>20817.800</td>\n",
       "      <td>20817.800</td>\n",
       "      <td>0.000</td>\n",
       "    </tr>\n",
       "    <tr>\n",
       "      <th>4</th>\n",
       "      <td>2022-05-01</td>\n",
       "      <td>2180.700</td>\n",
       "      <td>4933.100</td>\n",
       "      <td>13424.200</td>\n",
       "      <td>20538.000</td>\n",
       "      <td>20537.900</td>\n",
       "      <td>0.100</td>\n",
       "    </tr>\n",
       "    <tr>\n",
       "      <th>5</th>\n",
       "      <td>2022-06-01</td>\n",
       "      <td>2183.700</td>\n",
       "      <td>4947.200</td>\n",
       "      <td>13404.500</td>\n",
       "      <td>20535.400</td>\n",
       "      <td>20535.400</td>\n",
       "      <td>0.000</td>\n",
       "    </tr>\n",
       "    <tr>\n",
       "      <th>6</th>\n",
       "      <td>2022-07-01</td>\n",
       "      <td>2184.900</td>\n",
       "      <td>4960.900</td>\n",
       "      <td>13325.900</td>\n",
       "      <td>20471.700</td>\n",
       "      <td>20471.700</td>\n",
       "      <td>-0.000</td>\n",
       "    </tr>\n",
       "    <tr>\n",
       "      <th>7</th>\n",
       "      <td>2022-08-01</td>\n",
       "      <td>2185.800</td>\n",
       "      <td>5181.500</td>\n",
       "      <td>13012.900</td>\n",
       "      <td>20380.200</td>\n",
       "      <td>20380.200</td>\n",
       "      <td>0.000</td>\n",
       "    </tr>\n",
       "  </tbody>\n",
       "</table>\n",
       "</div>"
      ],
      "text/plain": [
       "        date  Currency Component of M1  Demand Deposits  \\\n",
       "0 2022-01-01                  2134.100         4757.900   \n",
       "1 2022-02-01                  2142.400         4691.700   \n",
       "2 2022-03-01                  2165.300         4811.800   \n",
       "3 2022-04-01                  2175.600         4878.300   \n",
       "4 2022-05-01                  2180.700         4933.100   \n",
       "5 2022-06-01                  2183.700         4947.200   \n",
       "6 2022-07-01                  2184.900         4960.900   \n",
       "7 2022-08-01                  2185.800         5181.500   \n",
       "\n",
       "   Other Liquid Deposits: Total  sum_from_component  groupTotal  solution  \n",
       "0                     13657.300           20549.300   20549.400    -0.100  \n",
       "1                     13694.100           20528.200   20528.100     0.100  \n",
       "2                     13823.800           20800.900   20800.900     0.000  \n",
       "3                     13763.900           20817.800   20817.800     0.000  \n",
       "4                     13424.200           20538.000   20537.900     0.100  \n",
       "5                     13404.500           20535.400   20535.400     0.000  \n",
       "6                     13325.900           20471.700   20471.700    -0.000  \n",
       "7                     13012.900           20380.200   20380.200     0.000  "
      ]
     },
     "execution_count": 56,
     "metadata": {},
     "output_type": "execute_result"
    }
   ],
   "source": [
    "DW.DataWrangle.DQ_H6Measure('self',result_set,'Monthly','NSA',2022)"
   ]
  },
  {
   "cell_type": "code",
   "execution_count": 44,
   "metadata": {},
   "outputs": [],
   "source": [
    "#run for all years in API.  Export to file for interactive Tableau Dashboard."
   ]
  },
  {
   "cell_type": "code",
   "execution_count": 60,
   "metadata": {},
   "outputs": [
    {
     "ename": "TypeError",
     "evalue": "DQ_H6Measure() missing 1 required positional argument: 'season_adj_short'",
     "output_type": "error",
     "traceback": [
      "\u001b[0;31m---------------------------------------------------------------------------\u001b[0m",
      "\u001b[0;31mTypeError\u001b[0m                                 Traceback (most recent call last)",
      "\u001b[0;32m<ipython-input-60-0bc6dcc0407d>\u001b[0m in \u001b[0;36m<module>\u001b[0;34m\u001b[0m\n\u001b[0;32m----> 1\u001b[0;31m \u001b[0mDW\u001b[0m\u001b[0;34m.\u001b[0m\u001b[0mDataWrangle\u001b[0m\u001b[0;34m.\u001b[0m\u001b[0mDQ_H6Measure\u001b[0m\u001b[0;34m(\u001b[0m\u001b[0mresult_set\u001b[0m\u001b[0;34m,\u001b[0m\u001b[0;34m'Monthly'\u001b[0m\u001b[0;34m,\u001b[0m\u001b[0;34m'NSA'\u001b[0m\u001b[0;34m)\u001b[0m\u001b[0;34m\u001b[0m\u001b[0;34m\u001b[0m\u001b[0m\n\u001b[0m",
      "\u001b[0;31mTypeError\u001b[0m: DQ_H6Measure() missing 1 required positional argument: 'season_adj_short'"
     ]
    }
   ],
   "source": [
    "DW.DataWrangle.DQ_H6Measure(result_set,'Monthly','NSA')"
   ]
  },
  {
   "cell_type": "code",
   "execution_count": 45,
   "metadata": {},
   "outputs": [],
   "source": [
    "DW.DataWrangle.DQ_H6Measure('self',result_set,'Monthly','NSA').to_csv(\"../complete_dataset.csv\")"
   ]
  },
  {
   "cell_type": "code",
   "execution_count": 48,
   "metadata": {},
   "outputs": [
    {
     "data": {
      "text/html": [
       "<div class='tableauPlaceholder' id='viz1666587658946' style='position: relative'><noscript><a href='#'><img alt='M1 Time Series ' src='https:&#47;&#47;public.tableau.com&#47;static&#47;images&#47;SZ&#47;SZTHTXY7D&#47;1_rss.png' style='border: none' /></a></noscript><object class='tableauViz'  style='display:none;'><param name='host_url' value='https%3A%2F%2Fpublic.tableau.com%2F' /> <param name='embed_code_version' value='3' /> <param name='path' value='shared&#47;SZTHTXY7D' /> <param name='toolbar' value='yes' /><param name='static_image' value='https:&#47;&#47;public.tableau.com&#47;static&#47;images&#47;SZ&#47;SZTHTXY7D&#47;1.png' /> <param name='animate_transition' value='yes' /><param name='display_static_image' value='yes' /><param name='display_spinner' value='yes' /><param name='display_overlay' value='yes' /><param name='display_count' value='yes' /><param name='language' value='en-US' /><param name='filter' value='publish=yes' /></object></div>                <script type='text/javascript'>                    var divElement = document.getElementById('viz1666587658946');                    var vizElement = divElement.getElementsByTagName('object')[0];                    if ( divElement.offsetWidth > 800 ) { vizElement.style.width='1000px';vizElement.style.height='827px';} else if ( divElement.offsetWidth > 500 ) { vizElement.style.width='1000px';vizElement.style.height='827px';} else { vizElement.style.width='100%';vizElement.style.height='877px';}                     var scriptElement = document.createElement('script');                    scriptElement.src = 'https://public.tableau.com/javascripts/api/viz_v1.js';                    vizElement.parentNode.insertBefore(scriptElement, vizElement);                </script>\n"
      ],
      "text/plain": [
       "<IPython.core.display.HTML object>"
      ]
     },
     "metadata": {},
     "output_type": "display_data"
    }
   ],
   "source": [
    "%%html\n",
    "<div class='tableauPlaceholder' id='viz1666587658946' style='position: relative'><noscript><a href='#'><img alt='M1 Time Series ' src='https:&#47;&#47;public.tableau.com&#47;static&#47;images&#47;SZ&#47;SZTHTXY7D&#47;1_rss.png' style='border: none' /></a></noscript><object class='tableauViz'  style='display:none;'><param name='host_url' value='https%3A%2F%2Fpublic.tableau.com%2F' /> <param name='embed_code_version' value='3' /> <param name='path' value='shared&#47;SZTHTXY7D' /> <param name='toolbar' value='yes' /><param name='static_image' value='https:&#47;&#47;public.tableau.com&#47;static&#47;images&#47;SZ&#47;SZTHTXY7D&#47;1.png' /> <param name='animate_transition' value='yes' /><param name='display_static_image' value='yes' /><param name='display_spinner' value='yes' /><param name='display_overlay' value='yes' /><param name='display_count' value='yes' /><param name='language' value='en-US' /><param name='filter' value='publish=yes' /></object></div>                <script type='text/javascript'>                    var divElement = document.getElementById('viz1666587658946');                    var vizElement = divElement.getElementsByTagName('object')[0];                    if ( divElement.offsetWidth > 800 ) { vizElement.style.width='1000px';vizElement.style.height='827px';} else if ( divElement.offsetWidth > 500 ) { vizElement.style.width='1000px';vizElement.style.height='827px';} else { vizElement.style.width='100%';vizElement.style.height='877px';}                     var scriptElement = document.createElement('script');                    scriptElement.src = 'https://public.tableau.com/javascripts/api/viz_v1.js';                    vizElement.parentNode.insertBefore(scriptElement, vizElement);                </script>"
   ]
  },
  {
   "cell_type": "code",
   "execution_count": null,
   "metadata": {},
   "outputs": [],
   "source": []
  }
 ],
 "metadata": {
  "kernelspec": {
   "display_name": "Python 3",
   "language": "python",
   "name": "python3"
  },
  "language_info": {
   "codemirror_mode": {
    "name": "ipython",
    "version": 3
   },
   "file_extension": ".py",
   "mimetype": "text/x-python",
   "name": "python",
   "nbconvert_exporter": "python",
   "pygments_lexer": "ipython3",
   "version": "3.8.5"
  }
 },
 "nbformat": 4,
 "nbformat_minor": 4
}
