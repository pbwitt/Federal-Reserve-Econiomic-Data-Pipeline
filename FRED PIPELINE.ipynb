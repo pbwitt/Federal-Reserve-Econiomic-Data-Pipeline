{
 "cells": [
  {
   "cell_type": "code",
   "execution_count": 28,
   "metadata": {},
   "outputs": [
    {
     "data": {
      "text/html": [
       "<img src=\"money-supply.jpeg\"/>"
      ],
      "text/plain": [
       "<IPython.core.display.Image object>"
      ]
     },
     "execution_count": 28,
     "metadata": {},
     "output_type": "execute_result"
    }
   ],
   "source": [
    "from IPython.display import Image\n",
    "\n",
    "Image(url=\"money-supply.jpeg\")"
   ]
  },
  {
   "cell_type": "markdown",
   "metadata": {},
   "source": [
    "# H.6 Money Stock Measures\n",
    "\n",
    "An Analysis presented to the Federal Reserve Board \n",
    "\n",
    "Tasks to be completed:\n",
    "\n",
    "Using the St. Louis FRED API, pull data on monthly, non-seasonally adjusted M1 and its sub-components from January 2022 through August 2022, inclusive. \n",
    "\n",
    "M1 is one of two money stock measures MPOA publishes on the H.6 statistical release.\n",
    "The sub-components of M1 include currency, demand deposits, and other liquid deposits.\n",
    "\n",
    "Data on monthly, non-seasonally adjusted M1 and its sub-components can be referenced from FRED’s H.6 Money Stock Measure, Release Table 3 (https://fred.stlouisfed.org/release/tables?rid=21&eid=1217611). \n",
    "\n",
    "Calculate M1 for each month in the above range by summing, for a given month, the M1 sub-components. \n",
    "Create an output CSV with the following information:\n",
    "\n",
    "\n",
    "Col 1:  Date of M1 observation in yyyy-mm format\n",
    "\n",
    "Col 2:  Pulled monthly, non-seasonally adjusted M1 value in $billions from FRED\n",
    "\n",
    "Col 3:  Calculated monthly, non-seasonally adjusted M1 value in $billions constructed from M1 sub-components pulled from FRED\n",
    "\n",
    "Col 4:  Difference between column 2 and column 3 values in $billions\n",
    "\n",
    "We are expecting an output CSV containing nine rows (one row of labels and eight rows of M1 data) and four columns.  An example of the expected output for December 2021 would look like: \n",
    "\n",
    "date, pulled_m1, calculated_m1, difference"
   ]
  },
  {
   "cell_type": "code",
   "execution_count": 2,
   "metadata": {},
   "outputs": [],
   "source": [
    "import DataPull as dp\n",
    "import pandas as pd"
   ]
  },
  {
   "cell_type": "code",
   "execution_count": null,
   "metadata": {},
   "outputs": [],
   "source": [
    "pull_data=dp.DataPull()"
   ]
  },
  {
   "cell_type": "code",
   "execution_count": null,
   "metadata": {},
   "outputs": [],
   "source": [
    "fetch_data=pull_data.data_pull()"
   ]
  },
  {
   "cell_type": "code",
   "execution_count": null,
   "metadata": {},
   "outputs": [],
   "source": [
    "fetch_data.to_csv('../result_set1.csv')"
   ]
  },
  {
   "cell_type": "code",
   "execution_count": 4,
   "metadata": {},
   "outputs": [
    {
     "name": "stderr",
     "output_type": "stream",
     "text": [
      "/Users/pwitt/Desktop/anaconda3/lib/python3.8/site-packages/IPython/core/interactiveshell.py:3146: DtypeWarning: Columns (5,21) have mixed types.Specify dtype option on import or set low_memory=False.\n",
      "  has_raised = await self.run_ast_nodes(code_ast.body, cell_name,\n"
     ]
    }
   ],
   "source": [
    "result_set=pd.read_csv('../result_set.csv')"
   ]
  },
  {
   "cell_type": "markdown",
   "metadata": {},
   "source": [
    "# Explore Data"
   ]
  },
  {
   "cell_type": "markdown",
   "metadata": {},
   "source": [
    "Explore Data - check for columns, datatypes, etc.  Add columns for Year and Month.  Makes it easier for aggregations and filtering. Also will need to clean column names and convert datatypes.  The seperate module makes it easier to add things that are needed in the future. It also makes it easier to repurpose for other datasets. "
   ]
  },
  {
   "cell_type": "code",
   "execution_count": 9,
   "metadata": {},
   "outputs": [],
   "source": [
    "import importlib\n",
    "import DataWrangle as DW"
   ]
  },
  {
   "cell_type": "code",
   "execution_count": 10,
   "metadata": {},
   "outputs": [
    {
     "data": {
      "text/plain": [
       "<module 'DataWrangle' from '/Users/pwitt/Desktop/Federal-Reserve-Econiomic-Data-Pipeline/DataWrangle.py'>"
      ]
     },
     "execution_count": 10,
     "metadata": {},
     "output_type": "execute_result"
    }
   ],
   "source": [
    "importlib.reload(DW)"
   ]
  },
  {
   "cell_type": "markdown",
   "metadata": {},
   "source": [
    "Apply data clean module. Adds Month Year.  Should chage data types as well.  \n",
    "There are records with non-integers in the vlaue column.  Requires more work to clean "
   ]
  },
  {
   "cell_type": "code",
   "execution_count": 6,
   "metadata": {},
   "outputs": [],
   "source": [
    "DW.DataWrangle.clean_data(result_set)"
   ]
  },
  {
   "cell_type": "code",
   "execution_count": 15,
   "metadata": {},
   "outputs": [
    {
     "data": {
      "text/plain": [
       "Index(['Unnamed: 0', 'series_id', 'realtime_start', 'realtime_end', 'date',\n",
       "       'value', 'id_x', 'realtime_start', 'realtime_end', 'title',\n",
       "       'observation_start', 'observation_end', 'frequency', 'frequency_short',\n",
       "       'units', 'units_short', 'seasonal_adjustment',\n",
       "       'seasonal_adjustment_short', 'last_updated', 'popularity',\n",
       "       'group_popularity', 'notes', 'release_id', 'id_y', 'name', 'year',\n",
       "       'month'],\n",
       "      dtype='object')"
      ]
     },
     "execution_count": 15,
     "metadata": {},
     "output_type": "execute_result"
    }
   ],
   "source": [
    "result_set.columns"
   ]
  },
  {
   "cell_type": "code",
   "execution_count": null,
   "metadata": {},
   "outputs": [],
   "source": [
    "##apply data quality function. Takes in parameters that allows the logic to be applied to series from Fred. \n",
    "## Lots more could be done to customize this function."
   ]
  },
  {
   "cell_type": "code",
   "execution_count": 22,
   "metadata": {},
   "outputs": [
    {
     "data": {
      "text/plain": [
       "<module 'DataWrangle' from '/Users/pwitt/Desktop/Federal-Reserve-Econiomic-Data-Pipeline/DataWrangle.py'>"
      ]
     },
     "execution_count": 22,
     "metadata": {},
     "output_type": "execute_result"
    }
   ],
   "source": [
    "importlib.reload(DW)"
   ]
  },
  {
   "cell_type": "code",
   "execution_count": 24,
   "metadata": {},
   "outputs": [
    {
     "name": "stdout",
     "output_type": "stream",
     "text": [
      "run DQ measure\n"
     ]
    },
    {
     "data": {
      "text/html": [
       "<div>\n",
       "<style scoped>\n",
       "    .dataframe tbody tr th:only-of-type {\n",
       "        vertical-align: middle;\n",
       "    }\n",
       "\n",
       "    .dataframe tbody tr th {\n",
       "        vertical-align: top;\n",
       "    }\n",
       "\n",
       "    .dataframe thead th {\n",
       "        text-align: right;\n",
       "    }\n",
       "</style>\n",
       "<table border=\"1\" class=\"dataframe\">\n",
       "  <thead>\n",
       "    <tr style=\"text-align: right;\">\n",
       "      <th></th>\n",
       "      <th>date</th>\n",
       "      <th>Currency Component of M1</th>\n",
       "      <th>Demand Deposits</th>\n",
       "      <th>Other Liquid Deposits: Total</th>\n",
       "      <th>calculated_m1</th>\n",
       "      <th>pulled_m1</th>\n",
       "      <th>difference</th>\n",
       "    </tr>\n",
       "  </thead>\n",
       "  <tbody>\n",
       "    <tr>\n",
       "      <th>0</th>\n",
       "      <td>2022-01-01</td>\n",
       "      <td>2134.1</td>\n",
       "      <td>4757.9</td>\n",
       "      <td>13657.3</td>\n",
       "      <td>20549.3</td>\n",
       "      <td>20549.4</td>\n",
       "      <td>-0.1</td>\n",
       "    </tr>\n",
       "    <tr>\n",
       "      <th>1</th>\n",
       "      <td>2022-02-01</td>\n",
       "      <td>2142.4</td>\n",
       "      <td>4691.7</td>\n",
       "      <td>13694.1</td>\n",
       "      <td>20528.2</td>\n",
       "      <td>20528.1</td>\n",
       "      <td>0.1</td>\n",
       "    </tr>\n",
       "    <tr>\n",
       "      <th>2</th>\n",
       "      <td>2022-03-01</td>\n",
       "      <td>2165.3</td>\n",
       "      <td>4811.8</td>\n",
       "      <td>13823.8</td>\n",
       "      <td>20800.9</td>\n",
       "      <td>20800.9</td>\n",
       "      <td>0.0</td>\n",
       "    </tr>\n",
       "    <tr>\n",
       "      <th>3</th>\n",
       "      <td>2022-04-01</td>\n",
       "      <td>2175.6</td>\n",
       "      <td>4878.3</td>\n",
       "      <td>13763.9</td>\n",
       "      <td>20817.8</td>\n",
       "      <td>20817.8</td>\n",
       "      <td>0.0</td>\n",
       "    </tr>\n",
       "    <tr>\n",
       "      <th>4</th>\n",
       "      <td>2022-05-01</td>\n",
       "      <td>2180.7</td>\n",
       "      <td>4933.1</td>\n",
       "      <td>13424.2</td>\n",
       "      <td>20538.0</td>\n",
       "      <td>20537.9</td>\n",
       "      <td>0.1</td>\n",
       "    </tr>\n",
       "    <tr>\n",
       "      <th>5</th>\n",
       "      <td>2022-06-01</td>\n",
       "      <td>2183.7</td>\n",
       "      <td>4947.2</td>\n",
       "      <td>13404.5</td>\n",
       "      <td>20535.4</td>\n",
       "      <td>20535.4</td>\n",
       "      <td>0.0</td>\n",
       "    </tr>\n",
       "    <tr>\n",
       "      <th>6</th>\n",
       "      <td>2022-07-01</td>\n",
       "      <td>2184.9</td>\n",
       "      <td>4960.9</td>\n",
       "      <td>13325.9</td>\n",
       "      <td>20471.7</td>\n",
       "      <td>20471.7</td>\n",
       "      <td>0.0</td>\n",
       "    </tr>\n",
       "    <tr>\n",
       "      <th>7</th>\n",
       "      <td>2022-08-01</td>\n",
       "      <td>2185.8</td>\n",
       "      <td>5181.5</td>\n",
       "      <td>13012.9</td>\n",
       "      <td>20380.2</td>\n",
       "      <td>20380.2</td>\n",
       "      <td>0.0</td>\n",
       "    </tr>\n",
       "  </tbody>\n",
       "</table>\n",
       "</div>"
      ],
      "text/plain": [
       "        date  Currency Component of M1  Demand Deposits  \\\n",
       "0 2022-01-01                    2134.1           4757.9   \n",
       "1 2022-02-01                    2142.4           4691.7   \n",
       "2 2022-03-01                    2165.3           4811.8   \n",
       "3 2022-04-01                    2175.6           4878.3   \n",
       "4 2022-05-01                    2180.7           4933.1   \n",
       "5 2022-06-01                    2183.7           4947.2   \n",
       "6 2022-07-01                    2184.9           4960.9   \n",
       "7 2022-08-01                    2185.8           5181.5   \n",
       "\n",
       "   Other Liquid Deposits: Total  calculated_m1  pulled_m1  difference  \n",
       "0                       13657.3        20549.3    20549.4        -0.1  \n",
       "1                       13694.1        20528.2    20528.1         0.1  \n",
       "2                       13823.8        20800.9    20800.9         0.0  \n",
       "3                       13763.9        20817.8    20817.8         0.0  \n",
       "4                       13424.2        20538.0    20537.9         0.1  \n",
       "5                       13404.5        20535.4    20535.4         0.0  \n",
       "6                       13325.9        20471.7    20471.7         0.0  \n",
       "7                       13012.9        20380.2    20380.2         0.0  "
      ]
     },
     "execution_count": 24,
     "metadata": {},
     "output_type": "execute_result"
    }
   ],
   "source": [
    "DW.DataWrangle.DQ_H6Measure(result_set,'Monthly','NSA',2022)"
   ]
  },
  {
   "cell_type": "code",
   "execution_count": 25,
   "metadata": {},
   "outputs": [
    {
     "name": "stdout",
     "output_type": "stream",
     "text": [
      "run DQ measure\n"
     ]
    },
    {
     "data": {
      "text/html": [
       "<div>\n",
       "<style scoped>\n",
       "    .dataframe tbody tr th:only-of-type {\n",
       "        vertical-align: middle;\n",
       "    }\n",
       "\n",
       "    .dataframe tbody tr th {\n",
       "        vertical-align: top;\n",
       "    }\n",
       "\n",
       "    .dataframe thead th {\n",
       "        text-align: right;\n",
       "    }\n",
       "</style>\n",
       "<table border=\"1\" class=\"dataframe\">\n",
       "  <thead>\n",
       "    <tr style=\"text-align: right;\">\n",
       "      <th></th>\n",
       "      <th>date</th>\n",
       "      <th>Currency Component of M1</th>\n",
       "      <th>Demand Deposits</th>\n",
       "      <th>Other Liquid Deposits: Total</th>\n",
       "      <th>calculated_m1</th>\n",
       "      <th>pulled_m1</th>\n",
       "      <th>difference</th>\n",
       "    </tr>\n",
       "  </thead>\n",
       "  <tbody>\n",
       "    <tr>\n",
       "      <th>0</th>\n",
       "      <td>1959-01-01</td>\n",
       "      <td>28.4</td>\n",
       "      <td>113.4</td>\n",
       "      <td>NaN</td>\n",
       "      <td>141.8</td>\n",
       "      <td>142.2</td>\n",
       "      <td>-0.4</td>\n",
       "    </tr>\n",
       "    <tr>\n",
       "      <th>1</th>\n",
       "      <td>1959-02-01</td>\n",
       "      <td>28.2</td>\n",
       "      <td>110.8</td>\n",
       "      <td>NaN</td>\n",
       "      <td>139.0</td>\n",
       "      <td>139.3</td>\n",
       "      <td>-0.3</td>\n",
       "    </tr>\n",
       "    <tr>\n",
       "      <th>2</th>\n",
       "      <td>1959-03-01</td>\n",
       "      <td>28.3</td>\n",
       "      <td>109.8</td>\n",
       "      <td>NaN</td>\n",
       "      <td>138.1</td>\n",
       "      <td>138.4</td>\n",
       "      <td>-0.3</td>\n",
       "    </tr>\n",
       "    <tr>\n",
       "      <th>3</th>\n",
       "      <td>1959-04-01</td>\n",
       "      <td>28.3</td>\n",
       "      <td>111.1</td>\n",
       "      <td>NaN</td>\n",
       "      <td>139.4</td>\n",
       "      <td>139.7</td>\n",
       "      <td>-0.3</td>\n",
       "    </tr>\n",
       "    <tr>\n",
       "      <th>4</th>\n",
       "      <td>1959-05-01</td>\n",
       "      <td>28.5</td>\n",
       "      <td>109.8</td>\n",
       "      <td>NaN</td>\n",
       "      <td>138.3</td>\n",
       "      <td>138.7</td>\n",
       "      <td>-0.4</td>\n",
       "    </tr>\n",
       "    <tr>\n",
       "      <th>...</th>\n",
       "      <td>...</td>\n",
       "      <td>...</td>\n",
       "      <td>...</td>\n",
       "      <td>...</td>\n",
       "      <td>...</td>\n",
       "      <td>...</td>\n",
       "      <td>...</td>\n",
       "    </tr>\n",
       "    <tr>\n",
       "      <th>759</th>\n",
       "      <td>2022-04-01</td>\n",
       "      <td>2175.6</td>\n",
       "      <td>4878.3</td>\n",
       "      <td>13763.9</td>\n",
       "      <td>20817.8</td>\n",
       "      <td>20817.8</td>\n",
       "      <td>0.0</td>\n",
       "    </tr>\n",
       "    <tr>\n",
       "      <th>760</th>\n",
       "      <td>2022-05-01</td>\n",
       "      <td>2180.7</td>\n",
       "      <td>4933.1</td>\n",
       "      <td>13424.2</td>\n",
       "      <td>20538.0</td>\n",
       "      <td>20537.9</td>\n",
       "      <td>0.1</td>\n",
       "    </tr>\n",
       "    <tr>\n",
       "      <th>761</th>\n",
       "      <td>2022-06-01</td>\n",
       "      <td>2183.7</td>\n",
       "      <td>4947.2</td>\n",
       "      <td>13404.5</td>\n",
       "      <td>20535.4</td>\n",
       "      <td>20535.4</td>\n",
       "      <td>0.0</td>\n",
       "    </tr>\n",
       "    <tr>\n",
       "      <th>762</th>\n",
       "      <td>2022-07-01</td>\n",
       "      <td>2184.9</td>\n",
       "      <td>4960.9</td>\n",
       "      <td>13325.9</td>\n",
       "      <td>20471.7</td>\n",
       "      <td>20471.7</td>\n",
       "      <td>0.0</td>\n",
       "    </tr>\n",
       "    <tr>\n",
       "      <th>763</th>\n",
       "      <td>2022-08-01</td>\n",
       "      <td>2185.8</td>\n",
       "      <td>5181.5</td>\n",
       "      <td>13012.9</td>\n",
       "      <td>20380.2</td>\n",
       "      <td>20380.2</td>\n",
       "      <td>0.0</td>\n",
       "    </tr>\n",
       "  </tbody>\n",
       "</table>\n",
       "<p>764 rows × 7 columns</p>\n",
       "</div>"
      ],
      "text/plain": [
       "          date  Currency Component of M1  Demand Deposits  \\\n",
       "0   1959-01-01                      28.4            113.4   \n",
       "1   1959-02-01                      28.2            110.8   \n",
       "2   1959-03-01                      28.3            109.8   \n",
       "3   1959-04-01                      28.3            111.1   \n",
       "4   1959-05-01                      28.5            109.8   \n",
       "..         ...                       ...              ...   \n",
       "759 2022-04-01                    2175.6           4878.3   \n",
       "760 2022-05-01                    2180.7           4933.1   \n",
       "761 2022-06-01                    2183.7           4947.2   \n",
       "762 2022-07-01                    2184.9           4960.9   \n",
       "763 2022-08-01                    2185.8           5181.5   \n",
       "\n",
       "     Other Liquid Deposits: Total  calculated_m1  pulled_m1  difference  \n",
       "0                             NaN          141.8      142.2        -0.4  \n",
       "1                             NaN          139.0      139.3        -0.3  \n",
       "2                             NaN          138.1      138.4        -0.3  \n",
       "3                             NaN          139.4      139.7        -0.3  \n",
       "4                             NaN          138.3      138.7        -0.4  \n",
       "..                            ...            ...        ...         ...  \n",
       "759                       13763.9        20817.8    20817.8         0.0  \n",
       "760                       13424.2        20538.0    20537.9         0.1  \n",
       "761                       13404.5        20535.4    20535.4         0.0  \n",
       "762                       13325.9        20471.7    20471.7         0.0  \n",
       "763                       13012.9        20380.2    20380.2         0.0  \n",
       "\n",
       "[764 rows x 7 columns]"
      ]
     },
     "execution_count": 25,
     "metadata": {},
     "output_type": "execute_result"
    }
   ],
   "source": [
    "DW.DataWrangle.DQ_H6Measure(result_set,'Monthly','NSA')"
   ]
  },
  {
   "cell_type": "code",
   "execution_count": 26,
   "metadata": {},
   "outputs": [
    {
     "name": "stdout",
     "output_type": "stream",
     "text": [
      "run DQ measure\n"
     ]
    }
   ],
   "source": [
    "DW.DataWrangle.DQ_H6Measure(result_set,'Monthly','NSA').to_csv(\"../complete_dataset.csv\")"
   ]
  },
  {
   "cell_type": "code",
   "execution_count": 27,
   "metadata": {},
   "outputs": [
    {
     "data": {
      "text/html": [
       "<div class='tableauPlaceholder' id='viz1666587658946' style='position: relative'><noscript><a href='#'><img alt='M1 Time Series ' src='https:&#47;&#47;public.tableau.com&#47;static&#47;images&#47;SZ&#47;SZTHTXY7D&#47;1_rss.png' style='border: none' /></a></noscript><object class='tableauViz'  style='display:none;'><param name='host_url' value='https%3A%2F%2Fpublic.tableau.com%2F' /> <param name='embed_code_version' value='3' /> <param name='path' value='shared&#47;SZTHTXY7D' /> <param name='toolbar' value='yes' /><param name='static_image' value='https:&#47;&#47;public.tableau.com&#47;static&#47;images&#47;SZ&#47;SZTHTXY7D&#47;1.png' /> <param name='animate_transition' value='yes' /><param name='display_static_image' value='yes' /><param name='display_spinner' value='yes' /><param name='display_overlay' value='yes' /><param name='display_count' value='yes' /><param name='language' value='en-US' /><param name='filter' value='publish=yes' /></object></div>                <script type='text/javascript'>                    var divElement = document.getElementById('viz1666587658946');                    var vizElement = divElement.getElementsByTagName('object')[0];                    if ( divElement.offsetWidth > 800 ) { vizElement.style.width='1000px';vizElement.style.height='827px';} else if ( divElement.offsetWidth > 500 ) { vizElement.style.width='1000px';vizElement.style.height='827px';} else { vizElement.style.width='100%';vizElement.style.height='877px';}                     var scriptElement = document.createElement('script');                    scriptElement.src = 'https://public.tableau.com/javascripts/api/viz_v1.js';                    vizElement.parentNode.insertBefore(scriptElement, vizElement);                </script>\n"
      ],
      "text/plain": [
       "<IPython.core.display.HTML object>"
      ]
     },
     "metadata": {},
     "output_type": "display_data"
    }
   ],
   "source": [
    "%%html\n",
    "<div class='tableauPlaceholder' id='viz1666587658946' style='position: relative'><noscript><a href='#'><img alt='M1 Time Series ' src='https:&#47;&#47;public.tableau.com&#47;static&#47;images&#47;SZ&#47;SZTHTXY7D&#47;1_rss.png' style='border: none' /></a></noscript><object class='tableauViz'  style='display:none;'><param name='host_url' value='https%3A%2F%2Fpublic.tableau.com%2F' /> <param name='embed_code_version' value='3' /> <param name='path' value='shared&#47;SZTHTXY7D' /> <param name='toolbar' value='yes' /><param name='static_image' value='https:&#47;&#47;public.tableau.com&#47;static&#47;images&#47;SZ&#47;SZTHTXY7D&#47;1.png' /> <param name='animate_transition' value='yes' /><param name='display_static_image' value='yes' /><param name='display_spinner' value='yes' /><param name='display_overlay' value='yes' /><param name='display_count' value='yes' /><param name='language' value='en-US' /><param name='filter' value='publish=yes' /></object></div>                <script type='text/javascript'>                    var divElement = document.getElementById('viz1666587658946');                    var vizElement = divElement.getElementsByTagName('object')[0];                    if ( divElement.offsetWidth > 800 ) { vizElement.style.width='1000px';vizElement.style.height='827px';} else if ( divElement.offsetWidth > 500 ) { vizElement.style.width='1000px';vizElement.style.height='827px';} else { vizElement.style.width='100%';vizElement.style.height='877px';}                     var scriptElement = document.createElement('script');                    scriptElement.src = 'https://public.tableau.com/javascripts/api/viz_v1.js';                    vizElement.parentNode.insertBefore(scriptElement, vizElement);                </script>"
   ]
  },
  {
   "cell_type": "code",
   "execution_count": null,
   "metadata": {},
   "outputs": [],
   "source": []
  }
 ],
 "metadata": {
  "kernelspec": {
   "display_name": "Python 3",
   "language": "python",
   "name": "python3"
  },
  "language_info": {
   "codemirror_mode": {
    "name": "ipython",
    "version": 3
   },
   "file_extension": ".py",
   "mimetype": "text/x-python",
   "name": "python",
   "nbconvert_exporter": "python",
   "pygments_lexer": "ipython3",
   "version": "3.8.5"
  }
 },
 "nbformat": 4,
 "nbformat_minor": 4
}
