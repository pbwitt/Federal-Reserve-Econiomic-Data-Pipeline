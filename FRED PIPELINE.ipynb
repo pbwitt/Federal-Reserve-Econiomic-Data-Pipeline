{
 "cells": [
  {
   "cell_type": "code",
   "execution_count": 76,
   "metadata": {},
   "outputs": [
    {
     "data": {
      "text/html": [
       "<img src=\"money-supply.jpeg\"/>"
      ],
      "text/plain": [
       "<IPython.core.display.Image object>"
      ]
     },
     "execution_count": 76,
     "metadata": {},
     "output_type": "execute_result"
    }
   ],
   "source": [
    "from IPython.display import Image\n",
    "\n",
    "Image(url=\"money-supply.jpeg\")"
   ]
  },
  {
   "cell_type": "markdown",
   "metadata": {},
   "source": [
    "# H.6 Money Stock Measures\n",
    "\n",
    "An Analysis presented to the Federal Reserve Board \n",
    "\n",
    "Tasks to be completed:\n",
    "\n",
    "Using the St. Louis FRED API, pull data on monthly, non-seasonally adjusted M1 and its sub-components from January 2022 through August 2022, inclusive. \n",
    "\n",
    "M1 is one of two money stock measures MPOA publishes on the H.6 statistical release.\n",
    "The sub-components of M1 include currency, demand deposits, and other liquid deposits.\n",
    "\n",
    "Data on monthly, non-seasonally adjusted M1 and its sub-components can be referenced from FRED’s H.6 Money Stock Measure, Release Table 3 (https://fred.stlouisfed.org/release/tables?rid=21&eid=1217611). \n",
    "\n",
    "Calculate M1 for each month in the above range by summing, for a given month, the M1 sub-components. \n",
    "Create an output CSV with the following information:\n",
    "\n",
    "\n",
    "Col 1:  Date of M1 observation in yyyy-mm format\n",
    "\n",
    "Col 2:  Pulled monthly, non-seasonally adjusted M1 value in $billions from FRED\n",
    "\n",
    "Col 3:  Calculated monthly, non-seasonally adjusted M1 value in $billions constructed from M1 sub-components pulled from FRED\n",
    "\n",
    "Col 4:  Difference between column 2 and column 3 values in $billions\n",
    "\n",
    "We are expecting an output CSV containing nine rows (one row of labels and eight rows of M1 data) and four columns.  An example of the expected output for December 2021 would look like: \n",
    "\n",
    "date, pulled_m1, calculated_m1, difference"
   ]
  },
  {
   "cell_type": "code",
   "execution_count": 66,
   "metadata": {},
   "outputs": [],
   "source": [
    "import DataPull as dp\n",
    "import pandas as pd"
   ]
  },
  {
   "cell_type": "code",
   "execution_count": 77,
   "metadata": {},
   "outputs": [
    {
     "name": "stdout",
     "output_type": "stream",
     "text": [
      "DataPull\n",
      "DataPull Class Invoked. This is a draft demonstration. Author Paul Witt.  Original Work.\n"
     ]
    }
   ],
   "source": [
    "pull_data=dp.DataPull()"
   ]
  },
  {
   "cell_type": "code",
   "execution_count": null,
   "metadata": {},
   "outputs": [],
   "source": [
    "fetch_data=pull_data.data_pull()"
   ]
  },
  {
   "cell_type": "code",
   "execution_count": null,
   "metadata": {},
   "outputs": [],
   "source": [
    "fetch_data.to_csv('result_set.csv')"
   ]
  },
  {
   "cell_type": "code",
   "execution_count": 2,
   "metadata": {},
   "outputs": [
    {
     "name": "stderr",
     "output_type": "stream",
     "text": [
      "/Users/pwitt/Desktop/anaconda3/lib/python3.8/site-packages/IPython/core/interactiveshell.py:3146: DtypeWarning: Columns (5,21) have mixed types.Specify dtype option on import or set low_memory=False.\n",
      "  has_raised = await self.run_ast_nodes(code_ast.body, cell_name,\n"
     ]
    }
   ],
   "source": [
    "#result_set=pd.read_csv('../result_set.csv')"
   ]
  },
  {
   "cell_type": "markdown",
   "metadata": {},
   "source": [
    "# Explore Data"
   ]
  },
  {
   "cell_type": "markdown",
   "metadata": {},
   "source": [
    "Explore Data - check for columns, datatypes, etc.  Add columns for Year and Month.  Makes it easier for aggregations and filtering. Also will need to clean column names and convert datatypes.  The seperate module makes it easier to add things that are needed in the future. It also makes it easier to repurpose for other datasets. "
   ]
  },
  {
   "cell_type": "code",
   "execution_count": 102,
   "metadata": {},
   "outputs": [
    {
     "data": {
      "text/plain": [
       "Index(['Unnamed: 0', 'series_id', 'realtime_start', 'realtime_end', 'date',\n",
       "       'value', 'id_x', 'realtime_start', 'realtime_end', 'title',\n",
       "       'observation_start', 'observation_end', 'frequency', 'frequency_short',\n",
       "       'units', 'units_short', 'seasonal_adjustment',\n",
       "       'seasonal_adjustment_short', 'last_updated', 'popularity',\n",
       "       'group_popularity', 'notes', 'release_id', 'id_y', 'name', 'year',\n",
       "       'month'],\n",
       "      dtype='object')"
      ]
     },
     "execution_count": 102,
     "metadata": {},
     "output_type": "execute_result"
    }
   ],
   "source": [
    "result_set.columns"
   ]
  },
  {
   "cell_type": "code",
   "execution_count": 103,
   "metadata": {},
   "outputs": [
    {
     "data": {
      "text/plain": [
       "Unnamed: 0                            int64\n",
       "series_id                            object\n",
       "realtime_start                       object\n",
       "realtime_end                         object\n",
       "date                         datetime64[ns]\n",
       "value                                object\n",
       "id_x                                 object\n",
       "realtime_start                       object\n",
       "realtime_end                         object\n",
       "title                                object\n",
       "observation_start                    object\n",
       "observation_end                      object\n",
       "frequency                            object\n",
       "frequency_short                      object\n",
       "units                                object\n",
       "units_short                          object\n",
       "seasonal_adjustment                  object\n",
       "seasonal_adjustment_short            object\n",
       "last_updated                         object\n",
       "popularity                            int64\n",
       "group_popularity                      int64\n",
       "notes                                object\n",
       "release_id                            int64\n",
       "id_y                                  int64\n",
       "name                                 object\n",
       "year                                  int64\n",
       "month                                 int64\n",
       "dtype: object"
      ]
     },
     "execution_count": 103,
     "metadata": {},
     "output_type": "execute_result"
    }
   ],
   "source": [
    "result_set.dtypes"
   ]
  },
  {
   "cell_type": "code",
   "execution_count": 104,
   "metadata": {},
   "outputs": [],
   "source": [
    "import importlib\n",
    "import DataWrangle as DW"
   ]
  },
  {
   "cell_type": "code",
   "execution_count": 105,
   "metadata": {},
   "outputs": [
    {
     "data": {
      "text/plain": [
       "<module 'DataWrangle' from '/Users/pwitt/Desktop/Federal-Reserve-Econiomic-Data-Pipeline/DataWrangle.py'>"
      ]
     },
     "execution_count": 105,
     "metadata": {},
     "output_type": "execute_result"
    }
   ],
   "source": [
    "importlib.reload(DW)"
   ]
  },
  {
   "cell_type": "markdown",
   "metadata": {},
   "source": [
    "Apply data clean module. Adds Month Year.  Should chage data types as well.  \n",
    "There are records with non-integers in the vlaue column.  Requires more work to clean "
   ]
  },
  {
   "cell_type": "code",
   "execution_count": 106,
   "metadata": {},
   "outputs": [],
   "source": [
    "DW.DataWrangle.clean_data(result_set)"
   ]
  },
  {
   "cell_type": "code",
   "execution_count": 107,
   "metadata": {},
   "outputs": [
    {
     "data": {
      "text/plain": [
       "Index(['Unnamed: 0', 'series_id', 'realtime_start', 'realtime_end', 'date',\n",
       "       'value', 'id_x', 'realtime_start', 'realtime_end', 'title',\n",
       "       'observation_start', 'observation_end', 'frequency', 'frequency_short',\n",
       "       'units', 'units_short', 'seasonal_adjustment',\n",
       "       'seasonal_adjustment_short', 'last_updated', 'popularity',\n",
       "       'group_popularity', 'notes', 'release_id', 'id_y', 'name', 'year',\n",
       "       'month'],\n",
       "      dtype='object')"
      ]
     },
     "execution_count": 107,
     "metadata": {},
     "output_type": "execute_result"
    }
   ],
   "source": [
    "result_set.columns"
   ]
  },
  {
   "cell_type": "code",
   "execution_count": 108,
   "metadata": {},
   "outputs": [],
   "source": [
    "##apply data quality function. Takes in parameters that allows the logic to be applied to series from Fred. \n",
    "## Lots more could be done to customize this function."
   ]
  },
  {
   "cell_type": "code",
   "execution_count": 109,
   "metadata": {},
   "outputs": [],
   "source": [
    "pd.set_option('display.float_format', lambda x: '%.3f' % x)"
   ]
  },
  {
   "cell_type": "code",
   "execution_count": 110,
   "metadata": {},
   "outputs": [
    {
     "data": {
      "text/plain": [
       "<module 'DataWrangle' from '/Users/pwitt/Desktop/Federal-Reserve-Econiomic-Data-Pipeline/DataWrangle.py'>"
      ]
     },
     "execution_count": 110,
     "metadata": {},
     "output_type": "execute_result"
    }
   ],
   "source": [
    "importlib.reload(DW)"
   ]
  },
  {
   "cell_type": "code",
   "execution_count": 112,
   "metadata": {},
   "outputs": [
    {
     "name": "stdout",
     "output_type": "stream",
     "text": [
      "run data\n"
     ]
    }
   ],
   "source": [
    "x=DW.DataWrangle.DQ_H6Measure(result_set,'Monthly','NSA',2022)"
   ]
  },
  {
   "cell_type": "code",
   "execution_count": 116,
   "metadata": {},
   "outputs": [
    {
     "data": {
      "text/plain": [
       "0   -0.100\n",
       "1    0.100\n",
       "2    0.000\n",
       "3    0.000\n",
       "4    0.100\n",
       "5    0.000\n",
       "6   -0.000\n",
       "7    0.000\n",
       "dtype: float64"
      ]
     },
     "execution_count": 116,
     "metadata": {},
     "output_type": "execute_result"
    }
   ],
   "source": [
    "x.calculated_m1-x.pulled_m1.round(1)\n"
   ]
  },
  {
   "cell_type": "code",
   "execution_count": 44,
   "metadata": {},
   "outputs": [],
   "source": [
    "#run for all years in API.  Export to file for interactive Tableau Dashboard."
   ]
  },
  {
   "cell_type": "code",
   "execution_count": 90,
   "metadata": {},
   "outputs": [
    {
     "name": "stdout",
     "output_type": "stream",
     "text": [
      "run data\n"
     ]
    },
    {
     "data": {
      "text/html": [
       "<div>\n",
       "<style scoped>\n",
       "    .dataframe tbody tr th:only-of-type {\n",
       "        vertical-align: middle;\n",
       "    }\n",
       "\n",
       "    .dataframe tbody tr th {\n",
       "        vertical-align: top;\n",
       "    }\n",
       "\n",
       "    .dataframe thead th {\n",
       "        text-align: right;\n",
       "    }\n",
       "</style>\n",
       "<table border=\"1\" class=\"dataframe\">\n",
       "  <thead>\n",
       "    <tr style=\"text-align: right;\">\n",
       "      <th></th>\n",
       "      <th>date</th>\n",
       "      <th>Currency Component of M1</th>\n",
       "      <th>Demand Deposits</th>\n",
       "      <th>Other Liquid Deposits: Total</th>\n",
       "      <th>sum_from_component</th>\n",
       "      <th>groupTotal</th>\n",
       "      <th>solution</th>\n",
       "    </tr>\n",
       "  </thead>\n",
       "  <tbody>\n",
       "    <tr>\n",
       "      <th>0</th>\n",
       "      <td>1959-01-01</td>\n",
       "      <td>28.400</td>\n",
       "      <td>113.400</td>\n",
       "      <td>nan</td>\n",
       "      <td>141.800</td>\n",
       "      <td>142.200</td>\n",
       "      <td>-0.400</td>\n",
       "    </tr>\n",
       "    <tr>\n",
       "      <th>1</th>\n",
       "      <td>1959-02-01</td>\n",
       "      <td>28.200</td>\n",
       "      <td>110.800</td>\n",
       "      <td>nan</td>\n",
       "      <td>139.000</td>\n",
       "      <td>139.300</td>\n",
       "      <td>-0.300</td>\n",
       "    </tr>\n",
       "    <tr>\n",
       "      <th>2</th>\n",
       "      <td>1959-03-01</td>\n",
       "      <td>28.300</td>\n",
       "      <td>109.800</td>\n",
       "      <td>nan</td>\n",
       "      <td>138.100</td>\n",
       "      <td>138.400</td>\n",
       "      <td>-0.300</td>\n",
       "    </tr>\n",
       "    <tr>\n",
       "      <th>3</th>\n",
       "      <td>1959-04-01</td>\n",
       "      <td>28.300</td>\n",
       "      <td>111.100</td>\n",
       "      <td>nan</td>\n",
       "      <td>139.400</td>\n",
       "      <td>139.700</td>\n",
       "      <td>-0.300</td>\n",
       "    </tr>\n",
       "    <tr>\n",
       "      <th>4</th>\n",
       "      <td>1959-05-01</td>\n",
       "      <td>28.500</td>\n",
       "      <td>109.800</td>\n",
       "      <td>nan</td>\n",
       "      <td>138.300</td>\n",
       "      <td>138.700</td>\n",
       "      <td>-0.400</td>\n",
       "    </tr>\n",
       "    <tr>\n",
       "      <th>...</th>\n",
       "      <td>...</td>\n",
       "      <td>...</td>\n",
       "      <td>...</td>\n",
       "      <td>...</td>\n",
       "      <td>...</td>\n",
       "      <td>...</td>\n",
       "      <td>...</td>\n",
       "    </tr>\n",
       "    <tr>\n",
       "      <th>759</th>\n",
       "      <td>2022-04-01</td>\n",
       "      <td>2175.600</td>\n",
       "      <td>4878.300</td>\n",
       "      <td>13763.900</td>\n",
       "      <td>20817.800</td>\n",
       "      <td>20817.800</td>\n",
       "      <td>0.000</td>\n",
       "    </tr>\n",
       "    <tr>\n",
       "      <th>760</th>\n",
       "      <td>2022-05-01</td>\n",
       "      <td>2180.700</td>\n",
       "      <td>4933.100</td>\n",
       "      <td>13424.200</td>\n",
       "      <td>20538.000</td>\n",
       "      <td>20537.900</td>\n",
       "      <td>0.100</td>\n",
       "    </tr>\n",
       "    <tr>\n",
       "      <th>761</th>\n",
       "      <td>2022-06-01</td>\n",
       "      <td>2183.700</td>\n",
       "      <td>4947.200</td>\n",
       "      <td>13404.500</td>\n",
       "      <td>20535.400</td>\n",
       "      <td>20535.400</td>\n",
       "      <td>0.000</td>\n",
       "    </tr>\n",
       "    <tr>\n",
       "      <th>762</th>\n",
       "      <td>2022-07-01</td>\n",
       "      <td>2184.900</td>\n",
       "      <td>4960.900</td>\n",
       "      <td>13325.900</td>\n",
       "      <td>20471.700</td>\n",
       "      <td>20471.700</td>\n",
       "      <td>-0.000</td>\n",
       "    </tr>\n",
       "    <tr>\n",
       "      <th>763</th>\n",
       "      <td>2022-08-01</td>\n",
       "      <td>2185.800</td>\n",
       "      <td>5181.500</td>\n",
       "      <td>13012.900</td>\n",
       "      <td>20380.200</td>\n",
       "      <td>20380.200</td>\n",
       "      <td>0.000</td>\n",
       "    </tr>\n",
       "  </tbody>\n",
       "</table>\n",
       "<p>764 rows × 7 columns</p>\n",
       "</div>"
      ],
      "text/plain": [
       "          date  Currency Component of M1  Demand Deposits  \\\n",
       "0   1959-01-01                    28.400          113.400   \n",
       "1   1959-02-01                    28.200          110.800   \n",
       "2   1959-03-01                    28.300          109.800   \n",
       "3   1959-04-01                    28.300          111.100   \n",
       "4   1959-05-01                    28.500          109.800   \n",
       "..         ...                       ...              ...   \n",
       "759 2022-04-01                  2175.600         4878.300   \n",
       "760 2022-05-01                  2180.700         4933.100   \n",
       "761 2022-06-01                  2183.700         4947.200   \n",
       "762 2022-07-01                  2184.900         4960.900   \n",
       "763 2022-08-01                  2185.800         5181.500   \n",
       "\n",
       "     Other Liquid Deposits: Total  sum_from_component  groupTotal  solution  \n",
       "0                             nan             141.800     142.200    -0.400  \n",
       "1                             nan             139.000     139.300    -0.300  \n",
       "2                             nan             138.100     138.400    -0.300  \n",
       "3                             nan             139.400     139.700    -0.300  \n",
       "4                             nan             138.300     138.700    -0.400  \n",
       "..                            ...                 ...         ...       ...  \n",
       "759                     13763.900           20817.800   20817.800     0.000  \n",
       "760                     13424.200           20538.000   20537.900     0.100  \n",
       "761                     13404.500           20535.400   20535.400     0.000  \n",
       "762                     13325.900           20471.700   20471.700    -0.000  \n",
       "763                     13012.900           20380.200   20380.200     0.000  \n",
       "\n",
       "[764 rows x 7 columns]"
      ]
     },
     "execution_count": 90,
     "metadata": {},
     "output_type": "execute_result"
    }
   ],
   "source": [
    "DW.DataWrangle.DQ_H6Measure(result_set,'Monthly','NSA')"
   ]
  },
  {
   "cell_type": "code",
   "execution_count": 92,
   "metadata": {},
   "outputs": [
    {
     "name": "stdout",
     "output_type": "stream",
     "text": [
      "run data\n"
     ]
    }
   ],
   "source": [
    "DW.DataWrangle.DQ_H6Measure(result_set,'Monthly','NSA').to_csv(\"../complete_dataset.csv\")"
   ]
  },
  {
   "cell_type": "code",
   "execution_count": 48,
   "metadata": {},
   "outputs": [
    {
     "data": {
      "text/html": [
       "<div class='tableauPlaceholder' id='viz1666587658946' style='position: relative'><noscript><a href='#'><img alt='M1 Time Series ' src='https:&#47;&#47;public.tableau.com&#47;static&#47;images&#47;SZ&#47;SZTHTXY7D&#47;1_rss.png' style='border: none' /></a></noscript><object class='tableauViz'  style='display:none;'><param name='host_url' value='https%3A%2F%2Fpublic.tableau.com%2F' /> <param name='embed_code_version' value='3' /> <param name='path' value='shared&#47;SZTHTXY7D' /> <param name='toolbar' value='yes' /><param name='static_image' value='https:&#47;&#47;public.tableau.com&#47;static&#47;images&#47;SZ&#47;SZTHTXY7D&#47;1.png' /> <param name='animate_transition' value='yes' /><param name='display_static_image' value='yes' /><param name='display_spinner' value='yes' /><param name='display_overlay' value='yes' /><param name='display_count' value='yes' /><param name='language' value='en-US' /><param name='filter' value='publish=yes' /></object></div>                <script type='text/javascript'>                    var divElement = document.getElementById('viz1666587658946');                    var vizElement = divElement.getElementsByTagName('object')[0];                    if ( divElement.offsetWidth > 800 ) { vizElement.style.width='1000px';vizElement.style.height='827px';} else if ( divElement.offsetWidth > 500 ) { vizElement.style.width='1000px';vizElement.style.height='827px';} else { vizElement.style.width='100%';vizElement.style.height='877px';}                     var scriptElement = document.createElement('script');                    scriptElement.src = 'https://public.tableau.com/javascripts/api/viz_v1.js';                    vizElement.parentNode.insertBefore(scriptElement, vizElement);                </script>\n"
      ],
      "text/plain": [
       "<IPython.core.display.HTML object>"
      ]
     },
     "metadata": {},
     "output_type": "display_data"
    }
   ],
   "source": [
    "%%html\n",
    "<div class='tableauPlaceholder' id='viz1666587658946' style='position: relative'><noscript><a href='#'><img alt='M1 Time Series ' src='https:&#47;&#47;public.tableau.com&#47;static&#47;images&#47;SZ&#47;SZTHTXY7D&#47;1_rss.png' style='border: none' /></a></noscript><object class='tableauViz'  style='display:none;'><param name='host_url' value='https%3A%2F%2Fpublic.tableau.com%2F' /> <param name='embed_code_version' value='3' /> <param name='path' value='shared&#47;SZTHTXY7D' /> <param name='toolbar' value='yes' /><param name='static_image' value='https:&#47;&#47;public.tableau.com&#47;static&#47;images&#47;SZ&#47;SZTHTXY7D&#47;1.png' /> <param name='animate_transition' value='yes' /><param name='display_static_image' value='yes' /><param name='display_spinner' value='yes' /><param name='display_overlay' value='yes' /><param name='display_count' value='yes' /><param name='language' value='en-US' /><param name='filter' value='publish=yes' /></object></div>                <script type='text/javascript'>                    var divElement = document.getElementById('viz1666587658946');                    var vizElement = divElement.getElementsByTagName('object')[0];                    if ( divElement.offsetWidth > 800 ) { vizElement.style.width='1000px';vizElement.style.height='827px';} else if ( divElement.offsetWidth > 500 ) { vizElement.style.width='1000px';vizElement.style.height='827px';} else { vizElement.style.width='100%';vizElement.style.height='877px';}                     var scriptElement = document.createElement('script');                    scriptElement.src = 'https://public.tableau.com/javascripts/api/viz_v1.js';                    vizElement.parentNode.insertBefore(scriptElement, vizElement);                </script>"
   ]
  },
  {
   "cell_type": "code",
   "execution_count": null,
   "metadata": {},
   "outputs": [],
   "source": []
  }
 ],
 "metadata": {
  "kernelspec": {
   "display_name": "Python 3",
   "language": "python",
   "name": "python3"
  },
  "language_info": {
   "codemirror_mode": {
    "name": "ipython",
    "version": 3
   },
   "file_extension": ".py",
   "mimetype": "text/x-python",
   "name": "python",
   "nbconvert_exporter": "python",
   "pygments_lexer": "ipython3",
   "version": "3.8.5"
  }
 },
 "nbformat": 4,
 "nbformat_minor": 4
}
